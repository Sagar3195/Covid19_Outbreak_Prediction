{
  "nbformat": 4,
  "nbformat_minor": 0,
  "metadata": {
    "colab": {
      "name": "Covid_19_Outbreak_Prediction.ipynb",
      "provenance": [],
      "collapsed_sections": []
    },
    "kernelspec": {
      "name": "python3",
      "display_name": "Python 3"
    },
    "language_info": {
      "name": "python"
    }
  },
  "cells": [
    {
      "cell_type": "code",
      "metadata": {
        "id": "CRFknqNSTBql"
      },
      "source": [
        "#Importing required libraries\n",
        "import pandas as pd\n",
        "import numpy as np\n",
        "import matplotlib.pyplot as plt\n",
        "import seaborn as sns\n",
        "import datetime as dt\n",
        "import warnings\n",
        "warnings.filterwarnings('ignore')"
      ],
      "execution_count": null,
      "outputs": []
    },
    {
      "cell_type": "code",
      "metadata": {
        "id": "zhMOX1_VTEkg"
      },
      "source": [
        "#Loading covid_19 dataset\n",
        "covid = pd.read_csv(\"/content/drive/MyDrive/ML_Classification_Model/Covid_19_Outbreak_Prediction/covid_19_india.csv\", parse_dates= ['Date'], dayfirst= True)"
      ],
      "execution_count": null,
      "outputs": []
    },
    {
      "cell_type": "code",
      "metadata": {
        "colab": {
          "base_uri": "https://localhost:8080/",
          "height": 204
        },
        "id": "SWdnaOllTEo1",
        "outputId": "cb36276d-c440-4837-9241-4fa77e854ae4"
      },
      "source": [
        "covid.head()"
      ],
      "execution_count": null,
      "outputs": [
        {
          "output_type": "execute_result",
          "data": {
            "text/html": [
              "<div>\n",
              "<style scoped>\n",
              "    .dataframe tbody tr th:only-of-type {\n",
              "        vertical-align: middle;\n",
              "    }\n",
              "\n",
              "    .dataframe tbody tr th {\n",
              "        vertical-align: top;\n",
              "    }\n",
              "\n",
              "    .dataframe thead th {\n",
              "        text-align: right;\n",
              "    }\n",
              "</style>\n",
              "<table border=\"1\" class=\"dataframe\">\n",
              "  <thead>\n",
              "    <tr style=\"text-align: right;\">\n",
              "      <th></th>\n",
              "      <th>Sno</th>\n",
              "      <th>Date</th>\n",
              "      <th>Time</th>\n",
              "      <th>State/UnionTerritory</th>\n",
              "      <th>ConfirmedIndianNational</th>\n",
              "      <th>ConfirmedForeignNational</th>\n",
              "      <th>Cured</th>\n",
              "      <th>Deaths</th>\n",
              "      <th>Confirmed</th>\n",
              "    </tr>\n",
              "  </thead>\n",
              "  <tbody>\n",
              "    <tr>\n",
              "      <th>0</th>\n",
              "      <td>1</td>\n",
              "      <td>2020-01-30</td>\n",
              "      <td>6:00 PM</td>\n",
              "      <td>Kerala</td>\n",
              "      <td>1</td>\n",
              "      <td>0</td>\n",
              "      <td>0</td>\n",
              "      <td>0</td>\n",
              "      <td>1</td>\n",
              "    </tr>\n",
              "    <tr>\n",
              "      <th>1</th>\n",
              "      <td>2</td>\n",
              "      <td>2020-01-31</td>\n",
              "      <td>6:00 PM</td>\n",
              "      <td>Kerala</td>\n",
              "      <td>1</td>\n",
              "      <td>0</td>\n",
              "      <td>0</td>\n",
              "      <td>0</td>\n",
              "      <td>1</td>\n",
              "    </tr>\n",
              "    <tr>\n",
              "      <th>2</th>\n",
              "      <td>3</td>\n",
              "      <td>2020-02-01</td>\n",
              "      <td>6:00 PM</td>\n",
              "      <td>Kerala</td>\n",
              "      <td>2</td>\n",
              "      <td>0</td>\n",
              "      <td>0</td>\n",
              "      <td>0</td>\n",
              "      <td>2</td>\n",
              "    </tr>\n",
              "    <tr>\n",
              "      <th>3</th>\n",
              "      <td>4</td>\n",
              "      <td>2020-02-02</td>\n",
              "      <td>6:00 PM</td>\n",
              "      <td>Kerala</td>\n",
              "      <td>3</td>\n",
              "      <td>0</td>\n",
              "      <td>0</td>\n",
              "      <td>0</td>\n",
              "      <td>3</td>\n",
              "    </tr>\n",
              "    <tr>\n",
              "      <th>4</th>\n",
              "      <td>5</td>\n",
              "      <td>2020-02-03</td>\n",
              "      <td>6:00 PM</td>\n",
              "      <td>Kerala</td>\n",
              "      <td>3</td>\n",
              "      <td>0</td>\n",
              "      <td>0</td>\n",
              "      <td>0</td>\n",
              "      <td>3</td>\n",
              "    </tr>\n",
              "  </tbody>\n",
              "</table>\n",
              "</div>"
            ],
            "text/plain": [
              "   Sno       Date     Time  ... Cured Deaths Confirmed\n",
              "0    1 2020-01-30  6:00 PM  ...     0      0         1\n",
              "1    2 2020-01-31  6:00 PM  ...     0      0         1\n",
              "2    3 2020-02-01  6:00 PM  ...     0      0         2\n",
              "3    4 2020-02-02  6:00 PM  ...     0      0         3\n",
              "4    5 2020-02-03  6:00 PM  ...     0      0         3\n",
              "\n",
              "[5 rows x 9 columns]"
            ]
          },
          "metadata": {
            "tags": []
          },
          "execution_count": 3
        }
      ]
    },
    {
      "cell_type": "code",
      "metadata": {
        "colab": {
          "base_uri": "https://localhost:8080/"
        },
        "id": "B0dzhIMzTEuW",
        "outputId": "ea218610-2691-4ac2-8b0c-0e8835d828ac"
      },
      "source": [
        "#shape of dataset\n",
        "covid.shape"
      ],
      "execution_count": null,
      "outputs": [
        {
          "output_type": "execute_result",
          "data": {
            "text/plain": [
              "(14402, 9)"
            ]
          },
          "metadata": {
            "tags": []
          },
          "execution_count": 4
        }
      ]
    },
    {
      "cell_type": "code",
      "metadata": {
        "colab": {
          "base_uri": "https://localhost:8080/"
        },
        "id": "3QWT7R4PTEyE",
        "outputId": "82bfb0bd-d2ab-417d-e638-a86104d0ca6d"
      },
      "source": [
        "covid.info()"
      ],
      "execution_count": null,
      "outputs": [
        {
          "output_type": "stream",
          "text": [
            "<class 'pandas.core.frame.DataFrame'>\n",
            "RangeIndex: 14402 entries, 0 to 14401\n",
            "Data columns (total 9 columns):\n",
            " #   Column                    Non-Null Count  Dtype         \n",
            "---  ------                    --------------  -----         \n",
            " 0   Sno                       14402 non-null  int64         \n",
            " 1   Date                      14402 non-null  datetime64[ns]\n",
            " 2   Time                      14402 non-null  object        \n",
            " 3   State/UnionTerritory      14402 non-null  object        \n",
            " 4   ConfirmedIndianNational   14402 non-null  object        \n",
            " 5   ConfirmedForeignNational  14402 non-null  object        \n",
            " 6   Cured                     14402 non-null  int64         \n",
            " 7   Deaths                    14402 non-null  int64         \n",
            " 8   Confirmed                 14402 non-null  int64         \n",
            "dtypes: datetime64[ns](1), int64(4), object(4)\n",
            "memory usage: 1012.8+ KB\n"
          ],
          "name": "stdout"
        }
      ]
    },
    {
      "cell_type": "code",
      "metadata": {
        "colab": {
          "base_uri": "https://localhost:8080/",
          "height": 297
        },
        "id": "E1jEwb83TE1o",
        "outputId": "de5a9d83-53bc-44b9-d2b5-a17b7ce501dd"
      },
      "source": [
        "#statistical summary of dataset\n",
        "covid.describe()"
      ],
      "execution_count": null,
      "outputs": [
        {
          "output_type": "execute_result",
          "data": {
            "text/html": [
              "<div>\n",
              "<style scoped>\n",
              "    .dataframe tbody tr th:only-of-type {\n",
              "        vertical-align: middle;\n",
              "    }\n",
              "\n",
              "    .dataframe tbody tr th {\n",
              "        vertical-align: top;\n",
              "    }\n",
              "\n",
              "    .dataframe thead th {\n",
              "        text-align: right;\n",
              "    }\n",
              "</style>\n",
              "<table border=\"1\" class=\"dataframe\">\n",
              "  <thead>\n",
              "    <tr style=\"text-align: right;\">\n",
              "      <th></th>\n",
              "      <th>Sno</th>\n",
              "      <th>Cured</th>\n",
              "      <th>Deaths</th>\n",
              "      <th>Confirmed</th>\n",
              "    </tr>\n",
              "  </thead>\n",
              "  <tbody>\n",
              "    <tr>\n",
              "      <th>count</th>\n",
              "      <td>14402.000000</td>\n",
              "      <td>1.440200e+04</td>\n",
              "      <td>14402.000000</td>\n",
              "      <td>1.440200e+04</td>\n",
              "    </tr>\n",
              "    <tr>\n",
              "      <th>mean</th>\n",
              "      <td>7201.500000</td>\n",
              "      <td>1.584072e+05</td>\n",
              "      <td>2525.111790</td>\n",
              "      <td>1.738016e+05</td>\n",
              "    </tr>\n",
              "    <tr>\n",
              "      <th>std</th>\n",
              "      <td>4157.643623</td>\n",
              "      <td>3.210715e+05</td>\n",
              "      <td>6723.661773</td>\n",
              "      <td>3.533578e+05</td>\n",
              "    </tr>\n",
              "    <tr>\n",
              "      <th>min</th>\n",
              "      <td>1.000000</td>\n",
              "      <td>0.000000e+00</td>\n",
              "      <td>0.000000</td>\n",
              "      <td>0.000000e+00</td>\n",
              "    </tr>\n",
              "    <tr>\n",
              "      <th>25%</th>\n",
              "      <td>3601.250000</td>\n",
              "      <td>1.342000e+03</td>\n",
              "      <td>11.000000</td>\n",
              "      <td>2.498250e+03</td>\n",
              "    </tr>\n",
              "    <tr>\n",
              "      <th>50%</th>\n",
              "      <td>7201.500000</td>\n",
              "      <td>1.683550e+04</td>\n",
              "      <td>332.000000</td>\n",
              "      <td>2.204450e+04</td>\n",
              "    </tr>\n",
              "    <tr>\n",
              "      <th>75%</th>\n",
              "      <td>10801.750000</td>\n",
              "      <td>1.870605e+05</td>\n",
              "      <td>1936.000000</td>\n",
              "      <td>2.120525e+05</td>\n",
              "    </tr>\n",
              "    <tr>\n",
              "      <th>max</th>\n",
              "      <td>14402.000000</td>\n",
              "      <td>3.799266e+06</td>\n",
              "      <td>67985.000000</td>\n",
              "      <td>4.539553e+06</td>\n",
              "    </tr>\n",
              "  </tbody>\n",
              "</table>\n",
              "</div>"
            ],
            "text/plain": [
              "                Sno         Cured        Deaths     Confirmed\n",
              "count  14402.000000  1.440200e+04  14402.000000  1.440200e+04\n",
              "mean    7201.500000  1.584072e+05   2525.111790  1.738016e+05\n",
              "std     4157.643623  3.210715e+05   6723.661773  3.533578e+05\n",
              "min        1.000000  0.000000e+00      0.000000  0.000000e+00\n",
              "25%     3601.250000  1.342000e+03     11.000000  2.498250e+03\n",
              "50%     7201.500000  1.683550e+04    332.000000  2.204450e+04\n",
              "75%    10801.750000  1.870605e+05   1936.000000  2.120525e+05\n",
              "max    14402.000000  3.799266e+06  67985.000000  4.539553e+06"
            ]
          },
          "metadata": {
            "tags": []
          },
          "execution_count": 6
        }
      ]
    },
    {
      "cell_type": "code",
      "metadata": {
        "colab": {
          "base_uri": "https://localhost:8080/"
        },
        "id": "pwv5cQ_XTE5T",
        "outputId": "557cd19a-2017-4cac-b554-7df7b93cbbc1"
      },
      "source": [
        "#Checking missing values in dataset\n",
        "covid.isnull().sum()"
      ],
      "execution_count": null,
      "outputs": [
        {
          "output_type": "execute_result",
          "data": {
            "text/plain": [
              "Sno                         0\n",
              "Date                        0\n",
              "Time                        0\n",
              "State/UnionTerritory        0\n",
              "ConfirmedIndianNational     0\n",
              "ConfirmedForeignNational    0\n",
              "Cured                       0\n",
              "Deaths                      0\n",
              "Confirmed                   0\n",
              "dtype: int64"
            ]
          },
          "metadata": {
            "tags": []
          },
          "execution_count": 7
        }
      ]
    },
    {
      "cell_type": "markdown",
      "metadata": {
        "id": "Zx679wR2TxQ7"
      },
      "source": [
        "* There are no missing values present in dataset."
      ]
    },
    {
      "cell_type": "code",
      "metadata": {
        "colab": {
          "base_uri": "https://localhost:8080/"
        },
        "id": "N9kxPuo_TE9g",
        "outputId": "42585ec1-61b0-4159-8cca-091582ef4a8d"
      },
      "source": [
        "#columns of dataset\n",
        "covid.columns"
      ],
      "execution_count": null,
      "outputs": [
        {
          "output_type": "execute_result",
          "data": {
            "text/plain": [
              "Index(['Sno', 'Date', 'Time', 'State/UnionTerritory',\n",
              "       'ConfirmedIndianNational', 'ConfirmedForeignNational', 'Cured',\n",
              "       'Deaths', 'Confirmed'],\n",
              "      dtype='object')"
            ]
          },
          "metadata": {
            "tags": []
          },
          "execution_count": 8
        }
      ]
    },
    {
      "cell_type": "code",
      "metadata": {
        "id": "lq0TS5CYTFBa"
      },
      "source": [
        "#We drop columns which is not required for our model.\n",
        "covid.drop(['Sno', 'Time', 'ConfirmedIndianNational', 'ConfirmedForeignNational'],axis= 1, inplace= True) "
      ],
      "execution_count": null,
      "outputs": []
    },
    {
      "cell_type": "code",
      "metadata": {
        "colab": {
          "base_uri": "https://localhost:8080/",
          "height": 204
        },
        "id": "OCMSzT0FTFFD",
        "outputId": "21acb503-1718-4e5e-c01b-3acaf7d9d210"
      },
      "source": [
        "covid.head()"
      ],
      "execution_count": null,
      "outputs": [
        {
          "output_type": "execute_result",
          "data": {
            "text/html": [
              "<div>\n",
              "<style scoped>\n",
              "    .dataframe tbody tr th:only-of-type {\n",
              "        vertical-align: middle;\n",
              "    }\n",
              "\n",
              "    .dataframe tbody tr th {\n",
              "        vertical-align: top;\n",
              "    }\n",
              "\n",
              "    .dataframe thead th {\n",
              "        text-align: right;\n",
              "    }\n",
              "</style>\n",
              "<table border=\"1\" class=\"dataframe\">\n",
              "  <thead>\n",
              "    <tr style=\"text-align: right;\">\n",
              "      <th></th>\n",
              "      <th>Date</th>\n",
              "      <th>State/UnionTerritory</th>\n",
              "      <th>Cured</th>\n",
              "      <th>Deaths</th>\n",
              "      <th>Confirmed</th>\n",
              "    </tr>\n",
              "  </thead>\n",
              "  <tbody>\n",
              "    <tr>\n",
              "      <th>0</th>\n",
              "      <td>2020-01-30</td>\n",
              "      <td>Kerala</td>\n",
              "      <td>0</td>\n",
              "      <td>0</td>\n",
              "      <td>1</td>\n",
              "    </tr>\n",
              "    <tr>\n",
              "      <th>1</th>\n",
              "      <td>2020-01-31</td>\n",
              "      <td>Kerala</td>\n",
              "      <td>0</td>\n",
              "      <td>0</td>\n",
              "      <td>1</td>\n",
              "    </tr>\n",
              "    <tr>\n",
              "      <th>2</th>\n",
              "      <td>2020-02-01</td>\n",
              "      <td>Kerala</td>\n",
              "      <td>0</td>\n",
              "      <td>0</td>\n",
              "      <td>2</td>\n",
              "    </tr>\n",
              "    <tr>\n",
              "      <th>3</th>\n",
              "      <td>2020-02-02</td>\n",
              "      <td>Kerala</td>\n",
              "      <td>0</td>\n",
              "      <td>0</td>\n",
              "      <td>3</td>\n",
              "    </tr>\n",
              "    <tr>\n",
              "      <th>4</th>\n",
              "      <td>2020-02-03</td>\n",
              "      <td>Kerala</td>\n",
              "      <td>0</td>\n",
              "      <td>0</td>\n",
              "      <td>3</td>\n",
              "    </tr>\n",
              "  </tbody>\n",
              "</table>\n",
              "</div>"
            ],
            "text/plain": [
              "        Date State/UnionTerritory  Cured  Deaths  Confirmed\n",
              "0 2020-01-30               Kerala      0       0          1\n",
              "1 2020-01-31               Kerala      0       0          1\n",
              "2 2020-02-01               Kerala      0       0          2\n",
              "3 2020-02-02               Kerala      0       0          3\n",
              "4 2020-02-03               Kerala      0       0          3"
            ]
          },
          "metadata": {
            "tags": []
          },
          "execution_count": 10
        }
      ]
    },
    {
      "cell_type": "code",
      "metadata": {
        "id": "HRtfgAl0TFI_"
      },
      "source": [
        "#Renaming columns labels\n",
        "covid.rename(columns={\"Date\": 'date', 'State/UnionTerritory': 'state', 'Cured': 'cured', 'Deaths': 'deaths', 'Confirmed':'confirmed'},inplace = True)"
      ],
      "execution_count": null,
      "outputs": []
    },
    {
      "cell_type": "code",
      "metadata": {
        "colab": {
          "base_uri": "https://localhost:8080/",
          "height": 359
        },
        "id": "iJ1ZCcaFTFND",
        "outputId": "1975e73c-9a32-4bad-e945-39598563b42f"
      },
      "source": [
        "covid.head(10)"
      ],
      "execution_count": null,
      "outputs": [
        {
          "output_type": "execute_result",
          "data": {
            "text/html": [
              "<div>\n",
              "<style scoped>\n",
              "    .dataframe tbody tr th:only-of-type {\n",
              "        vertical-align: middle;\n",
              "    }\n",
              "\n",
              "    .dataframe tbody tr th {\n",
              "        vertical-align: top;\n",
              "    }\n",
              "\n",
              "    .dataframe thead th {\n",
              "        text-align: right;\n",
              "    }\n",
              "</style>\n",
              "<table border=\"1\" class=\"dataframe\">\n",
              "  <thead>\n",
              "    <tr style=\"text-align: right;\">\n",
              "      <th></th>\n",
              "      <th>date</th>\n",
              "      <th>state</th>\n",
              "      <th>cured</th>\n",
              "      <th>deaths</th>\n",
              "      <th>confirmed</th>\n",
              "    </tr>\n",
              "  </thead>\n",
              "  <tbody>\n",
              "    <tr>\n",
              "      <th>0</th>\n",
              "      <td>2020-01-30</td>\n",
              "      <td>Kerala</td>\n",
              "      <td>0</td>\n",
              "      <td>0</td>\n",
              "      <td>1</td>\n",
              "    </tr>\n",
              "    <tr>\n",
              "      <th>1</th>\n",
              "      <td>2020-01-31</td>\n",
              "      <td>Kerala</td>\n",
              "      <td>0</td>\n",
              "      <td>0</td>\n",
              "      <td>1</td>\n",
              "    </tr>\n",
              "    <tr>\n",
              "      <th>2</th>\n",
              "      <td>2020-02-01</td>\n",
              "      <td>Kerala</td>\n",
              "      <td>0</td>\n",
              "      <td>0</td>\n",
              "      <td>2</td>\n",
              "    </tr>\n",
              "    <tr>\n",
              "      <th>3</th>\n",
              "      <td>2020-02-02</td>\n",
              "      <td>Kerala</td>\n",
              "      <td>0</td>\n",
              "      <td>0</td>\n",
              "      <td>3</td>\n",
              "    </tr>\n",
              "    <tr>\n",
              "      <th>4</th>\n",
              "      <td>2020-02-03</td>\n",
              "      <td>Kerala</td>\n",
              "      <td>0</td>\n",
              "      <td>0</td>\n",
              "      <td>3</td>\n",
              "    </tr>\n",
              "    <tr>\n",
              "      <th>5</th>\n",
              "      <td>2020-02-04</td>\n",
              "      <td>Kerala</td>\n",
              "      <td>0</td>\n",
              "      <td>0</td>\n",
              "      <td>3</td>\n",
              "    </tr>\n",
              "    <tr>\n",
              "      <th>6</th>\n",
              "      <td>2020-02-05</td>\n",
              "      <td>Kerala</td>\n",
              "      <td>0</td>\n",
              "      <td>0</td>\n",
              "      <td>3</td>\n",
              "    </tr>\n",
              "    <tr>\n",
              "      <th>7</th>\n",
              "      <td>2020-02-06</td>\n",
              "      <td>Kerala</td>\n",
              "      <td>0</td>\n",
              "      <td>0</td>\n",
              "      <td>3</td>\n",
              "    </tr>\n",
              "    <tr>\n",
              "      <th>8</th>\n",
              "      <td>2020-02-07</td>\n",
              "      <td>Kerala</td>\n",
              "      <td>0</td>\n",
              "      <td>0</td>\n",
              "      <td>3</td>\n",
              "    </tr>\n",
              "    <tr>\n",
              "      <th>9</th>\n",
              "      <td>2020-02-08</td>\n",
              "      <td>Kerala</td>\n",
              "      <td>0</td>\n",
              "      <td>0</td>\n",
              "      <td>3</td>\n",
              "    </tr>\n",
              "  </tbody>\n",
              "</table>\n",
              "</div>"
            ],
            "text/plain": [
              "        date   state  cured  deaths  confirmed\n",
              "0 2020-01-30  Kerala      0       0          1\n",
              "1 2020-01-31  Kerala      0       0          1\n",
              "2 2020-02-01  Kerala      0       0          2\n",
              "3 2020-02-02  Kerala      0       0          3\n",
              "4 2020-02-03  Kerala      0       0          3\n",
              "5 2020-02-04  Kerala      0       0          3\n",
              "6 2020-02-05  Kerala      0       0          3\n",
              "7 2020-02-06  Kerala      0       0          3\n",
              "8 2020-02-07  Kerala      0       0          3\n",
              "9 2020-02-08  Kerala      0       0          3"
            ]
          },
          "metadata": {
            "tags": []
          },
          "execution_count": 12
        }
      ]
    },
    {
      "cell_type": "code",
      "metadata": {
        "colab": {
          "base_uri": "https://localhost:8080/",
          "height": 204
        },
        "id": "fmDQ38k5TFQ2",
        "outputId": "ba959b8c-b16b-4dbf-f29d-1a872268f256"
      },
      "source": [
        "covid.tail()"
      ],
      "execution_count": null,
      "outputs": [
        {
          "output_type": "execute_result",
          "data": {
            "text/html": [
              "<div>\n",
              "<style scoped>\n",
              "    .dataframe tbody tr th:only-of-type {\n",
              "        vertical-align: middle;\n",
              "    }\n",
              "\n",
              "    .dataframe tbody tr th {\n",
              "        vertical-align: top;\n",
              "    }\n",
              "\n",
              "    .dataframe thead th {\n",
              "        text-align: right;\n",
              "    }\n",
              "</style>\n",
              "<table border=\"1\" class=\"dataframe\">\n",
              "  <thead>\n",
              "    <tr style=\"text-align: right;\">\n",
              "      <th></th>\n",
              "      <th>date</th>\n",
              "      <th>state</th>\n",
              "      <th>cured</th>\n",
              "      <th>deaths</th>\n",
              "      <th>confirmed</th>\n",
              "    </tr>\n",
              "  </thead>\n",
              "  <tbody>\n",
              "    <tr>\n",
              "      <th>14397</th>\n",
              "      <td>2021-04-30</td>\n",
              "      <td>Telangana</td>\n",
              "      <td>355618</td>\n",
              "      <td>2261</td>\n",
              "      <td>435606</td>\n",
              "    </tr>\n",
              "    <tr>\n",
              "      <th>14398</th>\n",
              "      <td>2021-04-30</td>\n",
              "      <td>Tripura</td>\n",
              "      <td>33612</td>\n",
              "      <td>396</td>\n",
              "      <td>35169</td>\n",
              "    </tr>\n",
              "    <tr>\n",
              "      <th>14399</th>\n",
              "      <td>2021-04-30</td>\n",
              "      <td>Uttarakhand</td>\n",
              "      <td>124046</td>\n",
              "      <td>2502</td>\n",
              "      <td>174867</td>\n",
              "    </tr>\n",
              "    <tr>\n",
              "      <th>14400</th>\n",
              "      <td>2021-04-30</td>\n",
              "      <td>Uttar Pradesh</td>\n",
              "      <td>896477</td>\n",
              "      <td>12238</td>\n",
              "      <td>1217952</td>\n",
              "    </tr>\n",
              "    <tr>\n",
              "      <th>14401</th>\n",
              "      <td>2021-04-30</td>\n",
              "      <td>West Bengal</td>\n",
              "      <td>689466</td>\n",
              "      <td>11248</td>\n",
              "      <td>810955</td>\n",
              "    </tr>\n",
              "  </tbody>\n",
              "</table>\n",
              "</div>"
            ],
            "text/plain": [
              "            date          state   cured  deaths  confirmed\n",
              "14397 2021-04-30      Telangana  355618    2261     435606\n",
              "14398 2021-04-30        Tripura   33612     396      35169\n",
              "14399 2021-04-30    Uttarakhand  124046    2502     174867\n",
              "14400 2021-04-30  Uttar Pradesh  896477   12238    1217952\n",
              "14401 2021-04-30    West Bengal  689466   11248     810955"
            ]
          },
          "metadata": {
            "tags": []
          },
          "execution_count": 13
        }
      ]
    },
    {
      "cell_type": "code",
      "metadata": {
        "id": "rRWYPVOuTFUl"
      },
      "source": [
        "today = covid[covid.date == '2021-04-30']"
      ],
      "execution_count": null,
      "outputs": []
    },
    {
      "cell_type": "code",
      "metadata": {
        "colab": {
          "base_uri": "https://localhost:8080/",
          "height": 979
        },
        "id": "ihvlDsQATFYJ",
        "outputId": "0dbd2a82-98b5-473f-d155-c874ef1027f0"
      },
      "source": [
        "today.head(30)"
      ],
      "execution_count": null,
      "outputs": [
        {
          "output_type": "execute_result",
          "data": {
            "text/html": [
              "<div>\n",
              "<style scoped>\n",
              "    .dataframe tbody tr th:only-of-type {\n",
              "        vertical-align: middle;\n",
              "    }\n",
              "\n",
              "    .dataframe tbody tr th {\n",
              "        vertical-align: top;\n",
              "    }\n",
              "\n",
              "    .dataframe thead th {\n",
              "        text-align: right;\n",
              "    }\n",
              "</style>\n",
              "<table border=\"1\" class=\"dataframe\">\n",
              "  <thead>\n",
              "    <tr style=\"text-align: right;\">\n",
              "      <th></th>\n",
              "      <th>date</th>\n",
              "      <th>state</th>\n",
              "      <th>cured</th>\n",
              "      <th>deaths</th>\n",
              "      <th>confirmed</th>\n",
              "    </tr>\n",
              "  </thead>\n",
              "  <tbody>\n",
              "    <tr>\n",
              "      <th>14366</th>\n",
              "      <td>2021-04-30</td>\n",
              "      <td>Andaman and Nicobar Islands</td>\n",
              "      <td>5643</td>\n",
              "      <td>67</td>\n",
              "      <td>5875</td>\n",
              "    </tr>\n",
              "    <tr>\n",
              "      <th>14367</th>\n",
              "      <td>2021-04-30</td>\n",
              "      <td>Andhra Pradesh</td>\n",
              "      <td>962250</td>\n",
              "      <td>7928</td>\n",
              "      <td>1084336</td>\n",
              "    </tr>\n",
              "    <tr>\n",
              "      <th>14368</th>\n",
              "      <td>2021-04-30</td>\n",
              "      <td>Arunachal Pradesh</td>\n",
              "      <td>17085</td>\n",
              "      <td>59</td>\n",
              "      <td>18256</td>\n",
              "    </tr>\n",
              "    <tr>\n",
              "      <th>14369</th>\n",
              "      <td>2021-04-30</td>\n",
              "      <td>Assam</td>\n",
              "      <td>224194</td>\n",
              "      <td>1281</td>\n",
              "      <td>249926</td>\n",
              "    </tr>\n",
              "    <tr>\n",
              "      <th>14370</th>\n",
              "      <td>2021-04-30</td>\n",
              "      <td>Bihar</td>\n",
              "      <td>351162</td>\n",
              "      <td>2480</td>\n",
              "      <td>454464</td>\n",
              "    </tr>\n",
              "    <tr>\n",
              "      <th>14371</th>\n",
              "      <td>2021-04-30</td>\n",
              "      <td>Chandigarh</td>\n",
              "      <td>34806</td>\n",
              "      <td>465</td>\n",
              "      <td>41923</td>\n",
              "    </tr>\n",
              "    <tr>\n",
              "      <th>14372</th>\n",
              "      <td>2021-04-30</td>\n",
              "      <td>Chhattisgarh</td>\n",
              "      <td>587484</td>\n",
              "      <td>8312</td>\n",
              "      <td>713706</td>\n",
              "    </tr>\n",
              "    <tr>\n",
              "      <th>14373</th>\n",
              "      <td>2021-04-30</td>\n",
              "      <td>Dadra and Nagar Haveli and Daman and Diu</td>\n",
              "      <td>5249</td>\n",
              "      <td>4</td>\n",
              "      <td>7334</td>\n",
              "    </tr>\n",
              "    <tr>\n",
              "      <th>14374</th>\n",
              "      <td>2021-04-30</td>\n",
              "      <td>Delhi</td>\n",
              "      <td>1008537</td>\n",
              "      <td>15772</td>\n",
              "      <td>1122286</td>\n",
              "    </tr>\n",
              "    <tr>\n",
              "      <th>14375</th>\n",
              "      <td>2021-04-30</td>\n",
              "      <td>Goa</td>\n",
              "      <td>65984</td>\n",
              "      <td>1146</td>\n",
              "      <td>88028</td>\n",
              "    </tr>\n",
              "    <tr>\n",
              "      <th>14376</th>\n",
              "      <td>2021-04-30</td>\n",
              "      <td>Gujarat</td>\n",
              "      <td>408368</td>\n",
              "      <td>7010</td>\n",
              "      <td>553172</td>\n",
              "    </tr>\n",
              "    <tr>\n",
              "      <th>14377</th>\n",
              "      <td>2021-04-30</td>\n",
              "      <td>Haryana</td>\n",
              "      <td>376852</td>\n",
              "      <td>4118</td>\n",
              "      <td>474145</td>\n",
              "    </tr>\n",
              "    <tr>\n",
              "      <th>14378</th>\n",
              "      <td>2021-04-30</td>\n",
              "      <td>Himachal Pradesh</td>\n",
              "      <td>77634</td>\n",
              "      <td>1460</td>\n",
              "      <td>96929</td>\n",
              "    </tr>\n",
              "    <tr>\n",
              "      <th>14379</th>\n",
              "      <td>2021-04-30</td>\n",
              "      <td>Jammu and Kashmir</td>\n",
              "      <td>144154</td>\n",
              "      <td>2253</td>\n",
              "      <td>172551</td>\n",
              "    </tr>\n",
              "    <tr>\n",
              "      <th>14380</th>\n",
              "      <td>2021-04-30</td>\n",
              "      <td>Jharkhand</td>\n",
              "      <td>169033</td>\n",
              "      <td>2540</td>\n",
              "      <td>227450</td>\n",
              "    </tr>\n",
              "    <tr>\n",
              "      <th>14381</th>\n",
              "      <td>2021-04-30</td>\n",
              "      <td>Karnataka</td>\n",
              "      <td>1110025</td>\n",
              "      <td>15306</td>\n",
              "      <td>1474846</td>\n",
              "    </tr>\n",
              "    <tr>\n",
              "      <th>14382</th>\n",
              "      <td>2021-04-30</td>\n",
              "      <td>Kerala</td>\n",
              "      <td>1244301</td>\n",
              "      <td>5259</td>\n",
              "      <td>1533984</td>\n",
              "    </tr>\n",
              "    <tr>\n",
              "      <th>14383</th>\n",
              "      <td>2021-04-30</td>\n",
              "      <td>Ladakh</td>\n",
              "      <td>12129</td>\n",
              "      <td>140</td>\n",
              "      <td>13866</td>\n",
              "    </tr>\n",
              "    <tr>\n",
              "      <th>14384</th>\n",
              "      <td>2021-04-30</td>\n",
              "      <td>Lakshadweep</td>\n",
              "      <td>1382</td>\n",
              "      <td>4</td>\n",
              "      <td>2662</td>\n",
              "    </tr>\n",
              "    <tr>\n",
              "      <th>14385</th>\n",
              "      <td>2021-04-30</td>\n",
              "      <td>Madhya Pradesh</td>\n",
              "      <td>453331</td>\n",
              "      <td>5519</td>\n",
              "      <td>550927</td>\n",
              "    </tr>\n",
              "    <tr>\n",
              "      <th>14386</th>\n",
              "      <td>2021-04-30</td>\n",
              "      <td>Maharashtra</td>\n",
              "      <td>3799266</td>\n",
              "      <td>67985</td>\n",
              "      <td>4539553</td>\n",
              "    </tr>\n",
              "    <tr>\n",
              "      <th>14387</th>\n",
              "      <td>2021-04-30</td>\n",
              "      <td>Manipur</td>\n",
              "      <td>29690</td>\n",
              "      <td>400</td>\n",
              "      <td>31315</td>\n",
              "    </tr>\n",
              "    <tr>\n",
              "      <th>14388</th>\n",
              "      <td>2021-04-30</td>\n",
              "      <td>Meghalaya</td>\n",
              "      <td>14917</td>\n",
              "      <td>169</td>\n",
              "      <td>16617</td>\n",
              "    </tr>\n",
              "    <tr>\n",
              "      <th>14389</th>\n",
              "      <td>2021-04-30</td>\n",
              "      <td>Mizoram</td>\n",
              "      <td>4882</td>\n",
              "      <td>14</td>\n",
              "      <td>6019</td>\n",
              "    </tr>\n",
              "    <tr>\n",
              "      <th>14390</th>\n",
              "      <td>2021-04-30</td>\n",
              "      <td>Nagaland</td>\n",
              "      <td>12577</td>\n",
              "      <td>100</td>\n",
              "      <td>13750</td>\n",
              "    </tr>\n",
              "    <tr>\n",
              "      <th>14391</th>\n",
              "      <td>2021-04-30</td>\n",
              "      <td>Odisha</td>\n",
              "      <td>380400</td>\n",
              "      <td>2029</td>\n",
              "      <td>435513</td>\n",
              "    </tr>\n",
              "    <tr>\n",
              "      <th>14392</th>\n",
              "      <td>2021-04-30</td>\n",
              "      <td>Puducherry</td>\n",
              "      <td>47645</td>\n",
              "      <td>793</td>\n",
              "      <td>57427</td>\n",
              "    </tr>\n",
              "    <tr>\n",
              "      <th>14393</th>\n",
              "      <td>2021-04-30</td>\n",
              "      <td>Punjab</td>\n",
              "      <td>301047</td>\n",
              "      <td>8909</td>\n",
              "      <td>364910</td>\n",
              "    </tr>\n",
              "    <tr>\n",
              "      <th>14394</th>\n",
              "      <td>2021-04-30</td>\n",
              "      <td>Rajasthan</td>\n",
              "      <td>407243</td>\n",
              "      <td>4084</td>\n",
              "      <td>580846</td>\n",
              "    </tr>\n",
              "    <tr>\n",
              "      <th>14395</th>\n",
              "      <td>2021-04-30</td>\n",
              "      <td>Sikkim</td>\n",
              "      <td>6354</td>\n",
              "      <td>146</td>\n",
              "      <td>7747</td>\n",
              "    </tr>\n",
              "  </tbody>\n",
              "</table>\n",
              "</div>"
            ],
            "text/plain": [
              "            date                                     state  ...  deaths  confirmed\n",
              "14366 2021-04-30               Andaman and Nicobar Islands  ...      67       5875\n",
              "14367 2021-04-30                            Andhra Pradesh  ...    7928    1084336\n",
              "14368 2021-04-30                         Arunachal Pradesh  ...      59      18256\n",
              "14369 2021-04-30                                     Assam  ...    1281     249926\n",
              "14370 2021-04-30                                     Bihar  ...    2480     454464\n",
              "14371 2021-04-30                                Chandigarh  ...     465      41923\n",
              "14372 2021-04-30                              Chhattisgarh  ...    8312     713706\n",
              "14373 2021-04-30  Dadra and Nagar Haveli and Daman and Diu  ...       4       7334\n",
              "14374 2021-04-30                                     Delhi  ...   15772    1122286\n",
              "14375 2021-04-30                                       Goa  ...    1146      88028\n",
              "14376 2021-04-30                                   Gujarat  ...    7010     553172\n",
              "14377 2021-04-30                                   Haryana  ...    4118     474145\n",
              "14378 2021-04-30                          Himachal Pradesh  ...    1460      96929\n",
              "14379 2021-04-30                         Jammu and Kashmir  ...    2253     172551\n",
              "14380 2021-04-30                                 Jharkhand  ...    2540     227450\n",
              "14381 2021-04-30                                 Karnataka  ...   15306    1474846\n",
              "14382 2021-04-30                                    Kerala  ...    5259    1533984\n",
              "14383 2021-04-30                                    Ladakh  ...     140      13866\n",
              "14384 2021-04-30                               Lakshadweep  ...       4       2662\n",
              "14385 2021-04-30                            Madhya Pradesh  ...    5519     550927\n",
              "14386 2021-04-30                               Maharashtra  ...   67985    4539553\n",
              "14387 2021-04-30                                   Manipur  ...     400      31315\n",
              "14388 2021-04-30                                 Meghalaya  ...     169      16617\n",
              "14389 2021-04-30                                   Mizoram  ...      14       6019\n",
              "14390 2021-04-30                                  Nagaland  ...     100      13750\n",
              "14391 2021-04-30                                    Odisha  ...    2029     435513\n",
              "14392 2021-04-30                                Puducherry  ...     793      57427\n",
              "14393 2021-04-30                                    Punjab  ...    8909     364910\n",
              "14394 2021-04-30                                 Rajasthan  ...    4084     580846\n",
              "14395 2021-04-30                                    Sikkim  ...     146       7747\n",
              "\n",
              "[30 rows x 5 columns]"
            ]
          },
          "metadata": {
            "tags": []
          },
          "execution_count": 15
        }
      ]
    },
    {
      "cell_type": "code",
      "metadata": {
        "colab": {
          "base_uri": "https://localhost:8080/"
        },
        "id": "SS4cGwQ6TFb5",
        "outputId": "d35fb442-eece-4dc3-afd4-bfae06e0dc06"
      },
      "source": [
        "#Let's total number of records in today dataset\n",
        "today.shape"
      ],
      "execution_count": null,
      "outputs": [
        {
          "output_type": "execute_result",
          "data": {
            "text/plain": [
              "(36, 5)"
            ]
          },
          "metadata": {
            "tags": []
          },
          "execution_count": 16
        }
      ]
    },
    {
      "cell_type": "code",
      "metadata": {
        "id": "6r7P4QiTTFf3"
      },
      "source": [
        "#Now sorting dataset w.r.t. confirmed cases\n",
        "max_confirmed_cases = today.sort_values(by = 'confirmed', ascending= False)"
      ],
      "execution_count": null,
      "outputs": []
    },
    {
      "cell_type": "code",
      "metadata": {
        "colab": {
          "base_uri": "https://localhost:8080/",
          "height": 1000
        },
        "id": "V2TrvutXTFkW",
        "outputId": "a112bb61-7686-40c3-837a-5760ee8015a8"
      },
      "source": [
        "max_confirmed_cases"
      ],
      "execution_count": null,
      "outputs": [
        {
          "output_type": "execute_result",
          "data": {
            "text/html": [
              "<div>\n",
              "<style scoped>\n",
              "    .dataframe tbody tr th:only-of-type {\n",
              "        vertical-align: middle;\n",
              "    }\n",
              "\n",
              "    .dataframe tbody tr th {\n",
              "        vertical-align: top;\n",
              "    }\n",
              "\n",
              "    .dataframe thead th {\n",
              "        text-align: right;\n",
              "    }\n",
              "</style>\n",
              "<table border=\"1\" class=\"dataframe\">\n",
              "  <thead>\n",
              "    <tr style=\"text-align: right;\">\n",
              "      <th></th>\n",
              "      <th>date</th>\n",
              "      <th>state</th>\n",
              "      <th>cured</th>\n",
              "      <th>deaths</th>\n",
              "      <th>confirmed</th>\n",
              "    </tr>\n",
              "  </thead>\n",
              "  <tbody>\n",
              "    <tr>\n",
              "      <th>14386</th>\n",
              "      <td>2021-04-30</td>\n",
              "      <td>Maharashtra</td>\n",
              "      <td>3799266</td>\n",
              "      <td>67985</td>\n",
              "      <td>4539553</td>\n",
              "    </tr>\n",
              "    <tr>\n",
              "      <th>14382</th>\n",
              "      <td>2021-04-30</td>\n",
              "      <td>Kerala</td>\n",
              "      <td>1244301</td>\n",
              "      <td>5259</td>\n",
              "      <td>1533984</td>\n",
              "    </tr>\n",
              "    <tr>\n",
              "      <th>14381</th>\n",
              "      <td>2021-04-30</td>\n",
              "      <td>Karnataka</td>\n",
              "      <td>1110025</td>\n",
              "      <td>15306</td>\n",
              "      <td>1474846</td>\n",
              "    </tr>\n",
              "    <tr>\n",
              "      <th>14400</th>\n",
              "      <td>2021-04-30</td>\n",
              "      <td>Uttar Pradesh</td>\n",
              "      <td>896477</td>\n",
              "      <td>12238</td>\n",
              "      <td>1217952</td>\n",
              "    </tr>\n",
              "    <tr>\n",
              "      <th>14396</th>\n",
              "      <td>2021-04-30</td>\n",
              "      <td>Tamil Nadu</td>\n",
              "      <td>1021575</td>\n",
              "      <td>13933</td>\n",
              "      <td>1148064</td>\n",
              "    </tr>\n",
              "    <tr>\n",
              "      <th>14374</th>\n",
              "      <td>2021-04-30</td>\n",
              "      <td>Delhi</td>\n",
              "      <td>1008537</td>\n",
              "      <td>15772</td>\n",
              "      <td>1122286</td>\n",
              "    </tr>\n",
              "    <tr>\n",
              "      <th>14367</th>\n",
              "      <td>2021-04-30</td>\n",
              "      <td>Andhra Pradesh</td>\n",
              "      <td>962250</td>\n",
              "      <td>7928</td>\n",
              "      <td>1084336</td>\n",
              "    </tr>\n",
              "    <tr>\n",
              "      <th>14401</th>\n",
              "      <td>2021-04-30</td>\n",
              "      <td>West Bengal</td>\n",
              "      <td>689466</td>\n",
              "      <td>11248</td>\n",
              "      <td>810955</td>\n",
              "    </tr>\n",
              "    <tr>\n",
              "      <th>14372</th>\n",
              "      <td>2021-04-30</td>\n",
              "      <td>Chhattisgarh</td>\n",
              "      <td>587484</td>\n",
              "      <td>8312</td>\n",
              "      <td>713706</td>\n",
              "    </tr>\n",
              "    <tr>\n",
              "      <th>14394</th>\n",
              "      <td>2021-04-30</td>\n",
              "      <td>Rajasthan</td>\n",
              "      <td>407243</td>\n",
              "      <td>4084</td>\n",
              "      <td>580846</td>\n",
              "    </tr>\n",
              "    <tr>\n",
              "      <th>14376</th>\n",
              "      <td>2021-04-30</td>\n",
              "      <td>Gujarat</td>\n",
              "      <td>408368</td>\n",
              "      <td>7010</td>\n",
              "      <td>553172</td>\n",
              "    </tr>\n",
              "    <tr>\n",
              "      <th>14385</th>\n",
              "      <td>2021-04-30</td>\n",
              "      <td>Madhya Pradesh</td>\n",
              "      <td>453331</td>\n",
              "      <td>5519</td>\n",
              "      <td>550927</td>\n",
              "    </tr>\n",
              "    <tr>\n",
              "      <th>14377</th>\n",
              "      <td>2021-04-30</td>\n",
              "      <td>Haryana</td>\n",
              "      <td>376852</td>\n",
              "      <td>4118</td>\n",
              "      <td>474145</td>\n",
              "    </tr>\n",
              "    <tr>\n",
              "      <th>14370</th>\n",
              "      <td>2021-04-30</td>\n",
              "      <td>Bihar</td>\n",
              "      <td>351162</td>\n",
              "      <td>2480</td>\n",
              "      <td>454464</td>\n",
              "    </tr>\n",
              "    <tr>\n",
              "      <th>14397</th>\n",
              "      <td>2021-04-30</td>\n",
              "      <td>Telangana</td>\n",
              "      <td>355618</td>\n",
              "      <td>2261</td>\n",
              "      <td>435606</td>\n",
              "    </tr>\n",
              "    <tr>\n",
              "      <th>14391</th>\n",
              "      <td>2021-04-30</td>\n",
              "      <td>Odisha</td>\n",
              "      <td>380400</td>\n",
              "      <td>2029</td>\n",
              "      <td>435513</td>\n",
              "    </tr>\n",
              "    <tr>\n",
              "      <th>14393</th>\n",
              "      <td>2021-04-30</td>\n",
              "      <td>Punjab</td>\n",
              "      <td>301047</td>\n",
              "      <td>8909</td>\n",
              "      <td>364910</td>\n",
              "    </tr>\n",
              "    <tr>\n",
              "      <th>14369</th>\n",
              "      <td>2021-04-30</td>\n",
              "      <td>Assam</td>\n",
              "      <td>224194</td>\n",
              "      <td>1281</td>\n",
              "      <td>249926</td>\n",
              "    </tr>\n",
              "    <tr>\n",
              "      <th>14380</th>\n",
              "      <td>2021-04-30</td>\n",
              "      <td>Jharkhand</td>\n",
              "      <td>169033</td>\n",
              "      <td>2540</td>\n",
              "      <td>227450</td>\n",
              "    </tr>\n",
              "    <tr>\n",
              "      <th>14399</th>\n",
              "      <td>2021-04-30</td>\n",
              "      <td>Uttarakhand</td>\n",
              "      <td>124046</td>\n",
              "      <td>2502</td>\n",
              "      <td>174867</td>\n",
              "    </tr>\n",
              "    <tr>\n",
              "      <th>14379</th>\n",
              "      <td>2021-04-30</td>\n",
              "      <td>Jammu and Kashmir</td>\n",
              "      <td>144154</td>\n",
              "      <td>2253</td>\n",
              "      <td>172551</td>\n",
              "    </tr>\n",
              "    <tr>\n",
              "      <th>14378</th>\n",
              "      <td>2021-04-30</td>\n",
              "      <td>Himachal Pradesh</td>\n",
              "      <td>77634</td>\n",
              "      <td>1460</td>\n",
              "      <td>96929</td>\n",
              "    </tr>\n",
              "    <tr>\n",
              "      <th>14375</th>\n",
              "      <td>2021-04-30</td>\n",
              "      <td>Goa</td>\n",
              "      <td>65984</td>\n",
              "      <td>1146</td>\n",
              "      <td>88028</td>\n",
              "    </tr>\n",
              "    <tr>\n",
              "      <th>14392</th>\n",
              "      <td>2021-04-30</td>\n",
              "      <td>Puducherry</td>\n",
              "      <td>47645</td>\n",
              "      <td>793</td>\n",
              "      <td>57427</td>\n",
              "    </tr>\n",
              "    <tr>\n",
              "      <th>14371</th>\n",
              "      <td>2021-04-30</td>\n",
              "      <td>Chandigarh</td>\n",
              "      <td>34806</td>\n",
              "      <td>465</td>\n",
              "      <td>41923</td>\n",
              "    </tr>\n",
              "    <tr>\n",
              "      <th>14398</th>\n",
              "      <td>2021-04-30</td>\n",
              "      <td>Tripura</td>\n",
              "      <td>33612</td>\n",
              "      <td>396</td>\n",
              "      <td>35169</td>\n",
              "    </tr>\n",
              "    <tr>\n",
              "      <th>14387</th>\n",
              "      <td>2021-04-30</td>\n",
              "      <td>Manipur</td>\n",
              "      <td>29690</td>\n",
              "      <td>400</td>\n",
              "      <td>31315</td>\n",
              "    </tr>\n",
              "    <tr>\n",
              "      <th>14368</th>\n",
              "      <td>2021-04-30</td>\n",
              "      <td>Arunachal Pradesh</td>\n",
              "      <td>17085</td>\n",
              "      <td>59</td>\n",
              "      <td>18256</td>\n",
              "    </tr>\n",
              "    <tr>\n",
              "      <th>14388</th>\n",
              "      <td>2021-04-30</td>\n",
              "      <td>Meghalaya</td>\n",
              "      <td>14917</td>\n",
              "      <td>169</td>\n",
              "      <td>16617</td>\n",
              "    </tr>\n",
              "    <tr>\n",
              "      <th>14383</th>\n",
              "      <td>2021-04-30</td>\n",
              "      <td>Ladakh</td>\n",
              "      <td>12129</td>\n",
              "      <td>140</td>\n",
              "      <td>13866</td>\n",
              "    </tr>\n",
              "    <tr>\n",
              "      <th>14390</th>\n",
              "      <td>2021-04-30</td>\n",
              "      <td>Nagaland</td>\n",
              "      <td>12577</td>\n",
              "      <td>100</td>\n",
              "      <td>13750</td>\n",
              "    </tr>\n",
              "    <tr>\n",
              "      <th>14395</th>\n",
              "      <td>2021-04-30</td>\n",
              "      <td>Sikkim</td>\n",
              "      <td>6354</td>\n",
              "      <td>146</td>\n",
              "      <td>7747</td>\n",
              "    </tr>\n",
              "    <tr>\n",
              "      <th>14373</th>\n",
              "      <td>2021-04-30</td>\n",
              "      <td>Dadra and Nagar Haveli and Daman and Diu</td>\n",
              "      <td>5249</td>\n",
              "      <td>4</td>\n",
              "      <td>7334</td>\n",
              "    </tr>\n",
              "    <tr>\n",
              "      <th>14389</th>\n",
              "      <td>2021-04-30</td>\n",
              "      <td>Mizoram</td>\n",
              "      <td>4882</td>\n",
              "      <td>14</td>\n",
              "      <td>6019</td>\n",
              "    </tr>\n",
              "    <tr>\n",
              "      <th>14366</th>\n",
              "      <td>2021-04-30</td>\n",
              "      <td>Andaman and Nicobar Islands</td>\n",
              "      <td>5643</td>\n",
              "      <td>67</td>\n",
              "      <td>5875</td>\n",
              "    </tr>\n",
              "    <tr>\n",
              "      <th>14384</th>\n",
              "      <td>2021-04-30</td>\n",
              "      <td>Lakshadweep</td>\n",
              "      <td>1382</td>\n",
              "      <td>4</td>\n",
              "      <td>2662</td>\n",
              "    </tr>\n",
              "  </tbody>\n",
              "</table>\n",
              "</div>"
            ],
            "text/plain": [
              "            date                                     state  ...  deaths  confirmed\n",
              "14386 2021-04-30                               Maharashtra  ...   67985    4539553\n",
              "14382 2021-04-30                                    Kerala  ...    5259    1533984\n",
              "14381 2021-04-30                                 Karnataka  ...   15306    1474846\n",
              "14400 2021-04-30                             Uttar Pradesh  ...   12238    1217952\n",
              "14396 2021-04-30                                Tamil Nadu  ...   13933    1148064\n",
              "14374 2021-04-30                                     Delhi  ...   15772    1122286\n",
              "14367 2021-04-30                            Andhra Pradesh  ...    7928    1084336\n",
              "14401 2021-04-30                               West Bengal  ...   11248     810955\n",
              "14372 2021-04-30                              Chhattisgarh  ...    8312     713706\n",
              "14394 2021-04-30                                 Rajasthan  ...    4084     580846\n",
              "14376 2021-04-30                                   Gujarat  ...    7010     553172\n",
              "14385 2021-04-30                            Madhya Pradesh  ...    5519     550927\n",
              "14377 2021-04-30                                   Haryana  ...    4118     474145\n",
              "14370 2021-04-30                                     Bihar  ...    2480     454464\n",
              "14397 2021-04-30                                 Telangana  ...    2261     435606\n",
              "14391 2021-04-30                                    Odisha  ...    2029     435513\n",
              "14393 2021-04-30                                    Punjab  ...    8909     364910\n",
              "14369 2021-04-30                                     Assam  ...    1281     249926\n",
              "14380 2021-04-30                                 Jharkhand  ...    2540     227450\n",
              "14399 2021-04-30                               Uttarakhand  ...    2502     174867\n",
              "14379 2021-04-30                         Jammu and Kashmir  ...    2253     172551\n",
              "14378 2021-04-30                          Himachal Pradesh  ...    1460      96929\n",
              "14375 2021-04-30                                       Goa  ...    1146      88028\n",
              "14392 2021-04-30                                Puducherry  ...     793      57427\n",
              "14371 2021-04-30                                Chandigarh  ...     465      41923\n",
              "14398 2021-04-30                                   Tripura  ...     396      35169\n",
              "14387 2021-04-30                                   Manipur  ...     400      31315\n",
              "14368 2021-04-30                         Arunachal Pradesh  ...      59      18256\n",
              "14388 2021-04-30                                 Meghalaya  ...     169      16617\n",
              "14383 2021-04-30                                    Ladakh  ...     140      13866\n",
              "14390 2021-04-30                                  Nagaland  ...     100      13750\n",
              "14395 2021-04-30                                    Sikkim  ...     146       7747\n",
              "14373 2021-04-30  Dadra and Nagar Haveli and Daman and Diu  ...       4       7334\n",
              "14389 2021-04-30                                   Mizoram  ...      14       6019\n",
              "14366 2021-04-30               Andaman and Nicobar Islands  ...      67       5875\n",
              "14384 2021-04-30                               Lakshadweep  ...       4       2662\n",
              "\n",
              "[36 rows x 5 columns]"
            ]
          },
          "metadata": {
            "tags": []
          },
          "execution_count": 18
        }
      ]
    },
    {
      "cell_type": "code",
      "metadata": {
        "id": "WqOGK_3PTFqF"
      },
      "source": [
        "top_states_confirmed = max_confirmed_cases[0:5]"
      ],
      "execution_count": null,
      "outputs": []
    },
    {
      "cell_type": "code",
      "metadata": {
        "colab": {
          "base_uri": "https://localhost:8080/",
          "height": 513
        },
        "id": "v9nXhH87TFvG",
        "outputId": "8b577a64-747d-4a9c-fb0d-67f8f82da5e0"
      },
      "source": [
        "sns.set(rc = {'figure.figsize': (12, 8)})\n",
        "sns.barplot(x = 'state', y = 'confirmed', data = top_states_confirmed, hue = 'state')\n",
        "plt.show()"
      ],
      "execution_count": null,
      "outputs": [
        {
          "output_type": "display_data",
          "data": {
            "image/png": "[encoded data removed]",
            "text/plain": [
              "<Figure size 864x576 with 1 Axes>"
            ]
          },
          "metadata": {
            "tags": []
          }
        }
      ]
    },
    {
      "cell_type": "code",
      "metadata": {
        "id": "dPHeatybTF1A"
      },
      "source": [
        "#Now sorting dataset w.r.t. death cases\n",
        "max_death_cases = today.sort_values(by = 'deaths', ascending= False)"
      ],
      "execution_count": null,
      "outputs": []
    },
    {
      "cell_type": "code",
      "metadata": {
        "colab": {
          "base_uri": "https://localhost:8080/",
          "height": 1000
        },
        "id": "rBY3rW_YTF6z",
        "outputId": "1835c37c-481a-4098-882c-bb290657f4a3"
      },
      "source": [
        "max_death_cases"
      ],
      "execution_count": null,
      "outputs": [
        {
          "output_type": "execute_result",
          "data": {
            "text/html": [
              "<div>\n",
              "<style scoped>\n",
              "    .dataframe tbody tr th:only-of-type {\n",
              "        vertical-align: middle;\n",
              "    }\n",
              "\n",
              "    .dataframe tbody tr th {\n",
              "        vertical-align: top;\n",
              "    }\n",
              "\n",
              "    .dataframe thead th {\n",
              "        text-align: right;\n",
              "    }\n",
              "</style>\n",
              "<table border=\"1\" class=\"dataframe\">\n",
              "  <thead>\n",
              "    <tr style=\"text-align: right;\">\n",
              "      <th></th>\n",
              "      <th>date</th>\n",
              "      <th>state</th>\n",
              "      <th>cured</th>\n",
              "      <th>deaths</th>\n",
              "      <th>confirmed</th>\n",
              "    </tr>\n",
              "  </thead>\n",
              "  <tbody>\n",
              "    <tr>\n",
              "      <th>14386</th>\n",
              "      <td>2021-04-30</td>\n",
              "      <td>Maharashtra</td>\n",
              "      <td>3799266</td>\n",
              "      <td>67985</td>\n",
              "      <td>4539553</td>\n",
              "    </tr>\n",
              "    <tr>\n",
              "      <th>14374</th>\n",
              "      <td>2021-04-30</td>\n",
              "      <td>Delhi</td>\n",
              "      <td>1008537</td>\n",
              "      <td>15772</td>\n",
              "      <td>1122286</td>\n",
              "    </tr>\n",
              "    <tr>\n",
              "      <th>14381</th>\n",
              "      <td>2021-04-30</td>\n",
              "      <td>Karnataka</td>\n",
              "      <td>1110025</td>\n",
              "      <td>15306</td>\n",
              "      <td>1474846</td>\n",
              "    </tr>\n",
              "    <tr>\n",
              "      <th>14396</th>\n",
              "      <td>2021-04-30</td>\n",
              "      <td>Tamil Nadu</td>\n",
              "      <td>1021575</td>\n",
              "      <td>13933</td>\n",
              "      <td>1148064</td>\n",
              "    </tr>\n",
              "    <tr>\n",
              "      <th>14400</th>\n",
              "      <td>2021-04-30</td>\n",
              "      <td>Uttar Pradesh</td>\n",
              "      <td>896477</td>\n",
              "      <td>12238</td>\n",
              "      <td>1217952</td>\n",
              "    </tr>\n",
              "    <tr>\n",
              "      <th>14401</th>\n",
              "      <td>2021-04-30</td>\n",
              "      <td>West Bengal</td>\n",
              "      <td>689466</td>\n",
              "      <td>11248</td>\n",
              "      <td>810955</td>\n",
              "    </tr>\n",
              "    <tr>\n",
              "      <th>14393</th>\n",
              "      <td>2021-04-30</td>\n",
              "      <td>Punjab</td>\n",
              "      <td>301047</td>\n",
              "      <td>8909</td>\n",
              "      <td>364910</td>\n",
              "    </tr>\n",
              "    <tr>\n",
              "      <th>14372</th>\n",
              "      <td>2021-04-30</td>\n",
              "      <td>Chhattisgarh</td>\n",
              "      <td>587484</td>\n",
              "      <td>8312</td>\n",
              "      <td>713706</td>\n",
              "    </tr>\n",
              "    <tr>\n",
              "      <th>14367</th>\n",
              "      <td>2021-04-30</td>\n",
              "      <td>Andhra Pradesh</td>\n",
              "      <td>962250</td>\n",
              "      <td>7928</td>\n",
              "      <td>1084336</td>\n",
              "    </tr>\n",
              "    <tr>\n",
              "      <th>14376</th>\n",
              "      <td>2021-04-30</td>\n",
              "      <td>Gujarat</td>\n",
              "      <td>408368</td>\n",
              "      <td>7010</td>\n",
              "      <td>553172</td>\n",
              "    </tr>\n",
              "    <tr>\n",
              "      <th>14385</th>\n",
              "      <td>2021-04-30</td>\n",
              "      <td>Madhya Pradesh</td>\n",
              "      <td>453331</td>\n",
              "      <td>5519</td>\n",
              "      <td>550927</td>\n",
              "    </tr>\n",
              "    <tr>\n",
              "      <th>14382</th>\n",
              "      <td>2021-04-30</td>\n",
              "      <td>Kerala</td>\n",
              "      <td>1244301</td>\n",
              "      <td>5259</td>\n",
              "      <td>1533984</td>\n",
              "    </tr>\n",
              "    <tr>\n",
              "      <th>14377</th>\n",
              "      <td>2021-04-30</td>\n",
              "      <td>Haryana</td>\n",
              "      <td>376852</td>\n",
              "      <td>4118</td>\n",
              "      <td>474145</td>\n",
              "    </tr>\n",
              "    <tr>\n",
              "      <th>14394</th>\n",
              "      <td>2021-04-30</td>\n",
              "      <td>Rajasthan</td>\n",
              "      <td>407243</td>\n",
              "      <td>4084</td>\n",
              "      <td>580846</td>\n",
              "    </tr>\n",
              "    <tr>\n",
              "      <th>14380</th>\n",
              "      <td>2021-04-30</td>\n",
              "      <td>Jharkhand</td>\n",
              "      <td>169033</td>\n",
              "      <td>2540</td>\n",
              "      <td>227450</td>\n",
              "    </tr>\n",
              "    <tr>\n",
              "      <th>14399</th>\n",
              "      <td>2021-04-30</td>\n",
              "      <td>Uttarakhand</td>\n",
              "      <td>124046</td>\n",
              "      <td>2502</td>\n",
              "      <td>174867</td>\n",
              "    </tr>\n",
              "    <tr>\n",
              "      <th>14370</th>\n",
              "      <td>2021-04-30</td>\n",
              "      <td>Bihar</td>\n",
              "      <td>351162</td>\n",
              "      <td>2480</td>\n",
              "      <td>454464</td>\n",
              "    </tr>\n",
              "    <tr>\n",
              "      <th>14397</th>\n",
              "      <td>2021-04-30</td>\n",
              "      <td>Telangana</td>\n",
              "      <td>355618</td>\n",
              "      <td>2261</td>\n",
              "      <td>435606</td>\n",
              "    </tr>\n",
              "    <tr>\n",
              "      <th>14379</th>\n",
              "      <td>2021-04-30</td>\n",
              "      <td>Jammu and Kashmir</td>\n",
              "      <td>144154</td>\n",
              "      <td>2253</td>\n",
              "      <td>172551</td>\n",
              "    </tr>\n",
              "    <tr>\n",
              "      <th>14391</th>\n",
              "      <td>2021-04-30</td>\n",
              "      <td>Odisha</td>\n",
              "      <td>380400</td>\n",
              "      <td>2029</td>\n",
              "      <td>435513</td>\n",
              "    </tr>\n",
              "    <tr>\n",
              "      <th>14378</th>\n",
              "      <td>2021-04-30</td>\n",
              "      <td>Himachal Pradesh</td>\n",
              "      <td>77634</td>\n",
              "      <td>1460</td>\n",
              "      <td>96929</td>\n",
              "    </tr>\n",
              "    <tr>\n",
              "      <th>14369</th>\n",
              "      <td>2021-04-30</td>\n",
              "      <td>Assam</td>\n",
              "      <td>224194</td>\n",
              "      <td>1281</td>\n",
              "      <td>249926</td>\n",
              "    </tr>\n",
              "    <tr>\n",
              "      <th>14375</th>\n",
              "      <td>2021-04-30</td>\n",
              "      <td>Goa</td>\n",
              "      <td>65984</td>\n",
              "      <td>1146</td>\n",
              "      <td>88028</td>\n",
              "    </tr>\n",
              "    <tr>\n",
              "      <th>14392</th>\n",
              "      <td>2021-04-30</td>\n",
              "      <td>Puducherry</td>\n",
              "      <td>47645</td>\n",
              "      <td>793</td>\n",
              "      <td>57427</td>\n",
              "    </tr>\n",
              "    <tr>\n",
              "      <th>14371</th>\n",
              "      <td>2021-04-30</td>\n",
              "      <td>Chandigarh</td>\n",
              "      <td>34806</td>\n",
              "      <td>465</td>\n",
              "      <td>41923</td>\n",
              "    </tr>\n",
              "    <tr>\n",
              "      <th>14387</th>\n",
              "      <td>2021-04-30</td>\n",
              "      <td>Manipur</td>\n",
              "      <td>29690</td>\n",
              "      <td>400</td>\n",
              "      <td>31315</td>\n",
              "    </tr>\n",
              "    <tr>\n",
              "      <th>14398</th>\n",
              "      <td>2021-04-30</td>\n",
              "      <td>Tripura</td>\n",
              "      <td>33612</td>\n",
              "      <td>396</td>\n",
              "      <td>35169</td>\n",
              "    </tr>\n",
              "    <tr>\n",
              "      <th>14388</th>\n",
              "      <td>2021-04-30</td>\n",
              "      <td>Meghalaya</td>\n",
              "      <td>14917</td>\n",
              "      <td>169</td>\n",
              "      <td>16617</td>\n",
              "    </tr>\n",
              "    <tr>\n",
              "      <th>14395</th>\n",
              "      <td>2021-04-30</td>\n",
              "      <td>Sikkim</td>\n",
              "      <td>6354</td>\n",
              "      <td>146</td>\n",
              "      <td>7747</td>\n",
              "    </tr>\n",
              "    <tr>\n",
              "      <th>14383</th>\n",
              "      <td>2021-04-30</td>\n",
              "      <td>Ladakh</td>\n",
              "      <td>12129</td>\n",
              "      <td>140</td>\n",
              "      <td>13866</td>\n",
              "    </tr>\n",
              "    <tr>\n",
              "      <th>14390</th>\n",
              "      <td>2021-04-30</td>\n",
              "      <td>Nagaland</td>\n",
              "      <td>12577</td>\n",
              "      <td>100</td>\n",
              "      <td>13750</td>\n",
              "    </tr>\n",
              "    <tr>\n",
              "      <th>14366</th>\n",
              "      <td>2021-04-30</td>\n",
              "      <td>Andaman and Nicobar Islands</td>\n",
              "      <td>5643</td>\n",
              "      <td>67</td>\n",
              "      <td>5875</td>\n",
              "    </tr>\n",
              "    <tr>\n",
              "      <th>14368</th>\n",
              "      <td>2021-04-30</td>\n",
              "      <td>Arunachal Pradesh</td>\n",
              "      <td>17085</td>\n",
              "      <td>59</td>\n",
              "      <td>18256</td>\n",
              "    </tr>\n",
              "    <tr>\n",
              "      <th>14389</th>\n",
              "      <td>2021-04-30</td>\n",
              "      <td>Mizoram</td>\n",
              "      <td>4882</td>\n",
              "      <td>14</td>\n",
              "      <td>6019</td>\n",
              "    </tr>\n",
              "    <tr>\n",
              "      <th>14373</th>\n",
              "      <td>2021-04-30</td>\n",
              "      <td>Dadra and Nagar Haveli and Daman and Diu</td>\n",
              "      <td>5249</td>\n",
              "      <td>4</td>\n",
              "      <td>7334</td>\n",
              "    </tr>\n",
              "    <tr>\n",
              "      <th>14384</th>\n",
              "      <td>2021-04-30</td>\n",
              "      <td>Lakshadweep</td>\n",
              "      <td>1382</td>\n",
              "      <td>4</td>\n",
              "      <td>2662</td>\n",
              "    </tr>\n",
              "  </tbody>\n",
              "</table>\n",
              "</div>"
            ],
            "text/plain": [
              "            date                                     state  ...  deaths  confirmed\n",
              "14386 2021-04-30                               Maharashtra  ...   67985    4539553\n",
              "14374 2021-04-30                                     Delhi  ...   15772    1122286\n",
              "14381 2021-04-30                                 Karnataka  ...   15306    1474846\n",
              "14396 2021-04-30                                Tamil Nadu  ...   13933    1148064\n",
              "14400 2021-04-30                             Uttar Pradesh  ...   12238    1217952\n",
              "14401 2021-04-30                               West Bengal  ...   11248     810955\n",
              "14393 2021-04-30                                    Punjab  ...    8909     364910\n",
              "14372 2021-04-30                              Chhattisgarh  ...    8312     713706\n",
              "14367 2021-04-30                            Andhra Pradesh  ...    7928    1084336\n",
              "14376 2021-04-30                                   Gujarat  ...    7010     553172\n",
              "14385 2021-04-30                            Madhya Pradesh  ...    5519     550927\n",
              "14382 2021-04-30                                    Kerala  ...    5259    1533984\n",
              "14377 2021-04-30                                   Haryana  ...    4118     474145\n",
              "14394 2021-04-30                                 Rajasthan  ...    4084     580846\n",
              "14380 2021-04-30                                 Jharkhand  ...    2540     227450\n",
              "14399 2021-04-30                               Uttarakhand  ...    2502     174867\n",
              "14370 2021-04-30                                     Bihar  ...    2480     454464\n",
              "14397 2021-04-30                                 Telangana  ...    2261     435606\n",
              "14379 2021-04-30                         Jammu and Kashmir  ...    2253     172551\n",
              "14391 2021-04-30                                    Odisha  ...    2029     435513\n",
              "14378 2021-04-30                          Himachal Pradesh  ...    1460      96929\n",
              "14369 2021-04-30                                     Assam  ...    1281     249926\n",
              "14375 2021-04-30                                       Goa  ...    1146      88028\n",
              "14392 2021-04-30                                Puducherry  ...     793      57427\n",
              "14371 2021-04-30                                Chandigarh  ...     465      41923\n",
              "14387 2021-04-30                                   Manipur  ...     400      31315\n",
              "14398 2021-04-30                                   Tripura  ...     396      35169\n",
              "14388 2021-04-30                                 Meghalaya  ...     169      16617\n",
              "14395 2021-04-30                                    Sikkim  ...     146       7747\n",
              "14383 2021-04-30                                    Ladakh  ...     140      13866\n",
              "14390 2021-04-30                                  Nagaland  ...     100      13750\n",
              "14366 2021-04-30               Andaman and Nicobar Islands  ...      67       5875\n",
              "14368 2021-04-30                         Arunachal Pradesh  ...      59      18256\n",
              "14389 2021-04-30                                   Mizoram  ...      14       6019\n",
              "14373 2021-04-30  Dadra and Nagar Haveli and Daman and Diu  ...       4       7334\n",
              "14384 2021-04-30                               Lakshadweep  ...       4       2662\n",
              "\n",
              "[36 rows x 5 columns]"
            ]
          },
          "metadata": {
            "tags": []
          },
          "execution_count": 22
        }
      ]
    },
    {
      "cell_type": "code",
      "metadata": {
        "id": "T5dw5Wc2l05B"
      },
      "source": [
        "top_states_deaths = max_death_cases[0:5]"
      ],
      "execution_count": null,
      "outputs": []
    },
    {
      "cell_type": "code",
      "metadata": {
        "colab": {
          "base_uri": "https://localhost:8080/",
          "height": 502
        },
        "id": "MMqrEKZoTGBF",
        "outputId": "889c33e6-5406-4c9f-a020-12b4b34f2eb7"
      },
      "source": [
        "sns.set(rc = {'figure.figsize': (12, 8)})\n",
        "sns.barplot(x = 'state', y = 'deaths', data = top_states_deaths, hue = 'state')\n",
        "plt.show()"
      ],
      "execution_count": null,
      "outputs": [
        {
          "output_type": "display_data",
          "data": {
            "image/png": "[encoded data removed]",
            "text/plain": [
              "<Figure size 864x576 with 1 Axes>"
            ]
          },
          "metadata": {
            "tags": []
          }
        }
      ]
    },
    {
      "cell_type": "code",
      "metadata": {
        "id": "ioetjFnUTGF-"
      },
      "source": [
        "max_cured_cases = today.sort_values(by = 'cured', ascending= False)"
      ],
      "execution_count": null,
      "outputs": []
    },
    {
      "cell_type": "code",
      "metadata": {
        "colab": {
          "base_uri": "https://localhost:8080/",
          "height": 1000
        },
        "id": "U_XR1US4TGKG",
        "outputId": "522e4ef2-a33e-45fa-cbf0-b8df9d4f677f"
      },
      "source": [
        "max_cured_cases"
      ],
      "execution_count": null,
      "outputs": [
        {
          "output_type": "execute_result",
          "data": {
            "text/html": [
              "<div>\n",
              "<style scoped>\n",
              "    .dataframe tbody tr th:only-of-type {\n",
              "        vertical-align: middle;\n",
              "    }\n",
              "\n",
              "    .dataframe tbody tr th {\n",
              "        vertical-align: top;\n",
              "    }\n",
              "\n",
              "    .dataframe thead th {\n",
              "        text-align: right;\n",
              "    }\n",
              "</style>\n",
              "<table border=\"1\" class=\"dataframe\">\n",
              "  <thead>\n",
              "    <tr style=\"text-align: right;\">\n",
              "      <th></th>\n",
              "      <th>date</th>\n",
              "      <th>state</th>\n",
              "      <th>cured</th>\n",
              "      <th>deaths</th>\n",
              "      <th>confirmed</th>\n",
              "    </tr>\n",
              "  </thead>\n",
              "  <tbody>\n",
              "    <tr>\n",
              "      <th>14386</th>\n",
              "      <td>2021-04-30</td>\n",
              "      <td>Maharashtra</td>\n",
              "      <td>3799266</td>\n",
              "      <td>67985</td>\n",
              "      <td>4539553</td>\n",
              "    </tr>\n",
              "    <tr>\n",
              "      <th>14382</th>\n",
              "      <td>2021-04-30</td>\n",
              "      <td>Kerala</td>\n",
              "      <td>1244301</td>\n",
              "      <td>5259</td>\n",
              "      <td>1533984</td>\n",
              "    </tr>\n",
              "    <tr>\n",
              "      <th>14381</th>\n",
              "      <td>2021-04-30</td>\n",
              "      <td>Karnataka</td>\n",
              "      <td>1110025</td>\n",
              "      <td>15306</td>\n",
              "      <td>1474846</td>\n",
              "    </tr>\n",
              "    <tr>\n",
              "      <th>14396</th>\n",
              "      <td>2021-04-30</td>\n",
              "      <td>Tamil Nadu</td>\n",
              "      <td>1021575</td>\n",
              "      <td>13933</td>\n",
              "      <td>1148064</td>\n",
              "    </tr>\n",
              "    <tr>\n",
              "      <th>14374</th>\n",
              "      <td>2021-04-30</td>\n",
              "      <td>Delhi</td>\n",
              "      <td>1008537</td>\n",
              "      <td>15772</td>\n",
              "      <td>1122286</td>\n",
              "    </tr>\n",
              "    <tr>\n",
              "      <th>14367</th>\n",
              "      <td>2021-04-30</td>\n",
              "      <td>Andhra Pradesh</td>\n",
              "      <td>962250</td>\n",
              "      <td>7928</td>\n",
              "      <td>1084336</td>\n",
              "    </tr>\n",
              "    <tr>\n",
              "      <th>14400</th>\n",
              "      <td>2021-04-30</td>\n",
              "      <td>Uttar Pradesh</td>\n",
              "      <td>896477</td>\n",
              "      <td>12238</td>\n",
              "      <td>1217952</td>\n",
              "    </tr>\n",
              "    <tr>\n",
              "      <th>14401</th>\n",
              "      <td>2021-04-30</td>\n",
              "      <td>West Bengal</td>\n",
              "      <td>689466</td>\n",
              "      <td>11248</td>\n",
              "      <td>810955</td>\n",
              "    </tr>\n",
              "    <tr>\n",
              "      <th>14372</th>\n",
              "      <td>2021-04-30</td>\n",
              "      <td>Chhattisgarh</td>\n",
              "      <td>587484</td>\n",
              "      <td>8312</td>\n",
              "      <td>713706</td>\n",
              "    </tr>\n",
              "    <tr>\n",
              "      <th>14385</th>\n",
              "      <td>2021-04-30</td>\n",
              "      <td>Madhya Pradesh</td>\n",
              "      <td>453331</td>\n",
              "      <td>5519</td>\n",
              "      <td>550927</td>\n",
              "    </tr>\n",
              "    <tr>\n",
              "      <th>14376</th>\n",
              "      <td>2021-04-30</td>\n",
              "      <td>Gujarat</td>\n",
              "      <td>408368</td>\n",
              "      <td>7010</td>\n",
              "      <td>553172</td>\n",
              "    </tr>\n",
              "    <tr>\n",
              "      <th>14394</th>\n",
              "      <td>2021-04-30</td>\n",
              "      <td>Rajasthan</td>\n",
              "      <td>407243</td>\n",
              "      <td>4084</td>\n",
              "      <td>580846</td>\n",
              "    </tr>\n",
              "    <tr>\n",
              "      <th>14391</th>\n",
              "      <td>2021-04-30</td>\n",
              "      <td>Odisha</td>\n",
              "      <td>380400</td>\n",
              "      <td>2029</td>\n",
              "      <td>435513</td>\n",
              "    </tr>\n",
              "    <tr>\n",
              "      <th>14377</th>\n",
              "      <td>2021-04-30</td>\n",
              "      <td>Haryana</td>\n",
              "      <td>376852</td>\n",
              "      <td>4118</td>\n",
              "      <td>474145</td>\n",
              "    </tr>\n",
              "    <tr>\n",
              "      <th>14397</th>\n",
              "      <td>2021-04-30</td>\n",
              "      <td>Telangana</td>\n",
              "      <td>355618</td>\n",
              "      <td>2261</td>\n",
              "      <td>435606</td>\n",
              "    </tr>\n",
              "    <tr>\n",
              "      <th>14370</th>\n",
              "      <td>2021-04-30</td>\n",
              "      <td>Bihar</td>\n",
              "      <td>351162</td>\n",
              "      <td>2480</td>\n",
              "      <td>454464</td>\n",
              "    </tr>\n",
              "    <tr>\n",
              "      <th>14393</th>\n",
              "      <td>2021-04-30</td>\n",
              "      <td>Punjab</td>\n",
              "      <td>301047</td>\n",
              "      <td>8909</td>\n",
              "      <td>364910</td>\n",
              "    </tr>\n",
              "    <tr>\n",
              "      <th>14369</th>\n",
              "      <td>2021-04-30</td>\n",
              "      <td>Assam</td>\n",
              "      <td>224194</td>\n",
              "      <td>1281</td>\n",
              "      <td>249926</td>\n",
              "    </tr>\n",
              "    <tr>\n",
              "      <th>14380</th>\n",
              "      <td>2021-04-30</td>\n",
              "      <td>Jharkhand</td>\n",
              "      <td>169033</td>\n",
              "      <td>2540</td>\n",
              "      <td>227450</td>\n",
              "    </tr>\n",
              "    <tr>\n",
              "      <th>14379</th>\n",
              "      <td>2021-04-30</td>\n",
              "      <td>Jammu and Kashmir</td>\n",
              "      <td>144154</td>\n",
              "      <td>2253</td>\n",
              "      <td>172551</td>\n",
              "    </tr>\n",
              "    <tr>\n",
              "      <th>14399</th>\n",
              "      <td>2021-04-30</td>\n",
              "      <td>Uttarakhand</td>\n",
              "      <td>124046</td>\n",
              "      <td>2502</td>\n",
              "      <td>174867</td>\n",
              "    </tr>\n",
              "    <tr>\n",
              "      <th>14378</th>\n",
              "      <td>2021-04-30</td>\n",
              "      <td>Himachal Pradesh</td>\n",
              "      <td>77634</td>\n",
              "      <td>1460</td>\n",
              "      <td>96929</td>\n",
              "    </tr>\n",
              "    <tr>\n",
              "      <th>14375</th>\n",
              "      <td>2021-04-30</td>\n",
              "      <td>Goa</td>\n",
              "      <td>65984</td>\n",
              "      <td>1146</td>\n",
              "      <td>88028</td>\n",
              "    </tr>\n",
              "    <tr>\n",
              "      <th>14392</th>\n",
              "      <td>2021-04-30</td>\n",
              "      <td>Puducherry</td>\n",
              "      <td>47645</td>\n",
              "      <td>793</td>\n",
              "      <td>57427</td>\n",
              "    </tr>\n",
              "    <tr>\n",
              "      <th>14371</th>\n",
              "      <td>2021-04-30</td>\n",
              "      <td>Chandigarh</td>\n",
              "      <td>34806</td>\n",
              "      <td>465</td>\n",
              "      <td>41923</td>\n",
              "    </tr>\n",
              "    <tr>\n",
              "      <th>14398</th>\n",
              "      <td>2021-04-30</td>\n",
              "      <td>Tripura</td>\n",
              "      <td>33612</td>\n",
              "      <td>396</td>\n",
              "      <td>35169</td>\n",
              "    </tr>\n",
              "    <tr>\n",
              "      <th>14387</th>\n",
              "      <td>2021-04-30</td>\n",
              "      <td>Manipur</td>\n",
              "      <td>29690</td>\n",
              "      <td>400</td>\n",
              "      <td>31315</td>\n",
              "    </tr>\n",
              "    <tr>\n",
              "      <th>14368</th>\n",
              "      <td>2021-04-30</td>\n",
              "      <td>Arunachal Pradesh</td>\n",
              "      <td>17085</td>\n",
              "      <td>59</td>\n",
              "      <td>18256</td>\n",
              "    </tr>\n",
              "    <tr>\n",
              "      <th>14388</th>\n",
              "      <td>2021-04-30</td>\n",
              "      <td>Meghalaya</td>\n",
              "      <td>14917</td>\n",
              "      <td>169</td>\n",
              "      <td>16617</td>\n",
              "    </tr>\n",
              "    <tr>\n",
              "      <th>14390</th>\n",
              "      <td>2021-04-30</td>\n",
              "      <td>Nagaland</td>\n",
              "      <td>12577</td>\n",
              "      <td>100</td>\n",
              "      <td>13750</td>\n",
              "    </tr>\n",
              "    <tr>\n",
              "      <th>14383</th>\n",
              "      <td>2021-04-30</td>\n",
              "      <td>Ladakh</td>\n",
              "      <td>12129</td>\n",
              "      <td>140</td>\n",
              "      <td>13866</td>\n",
              "    </tr>\n",
              "    <tr>\n",
              "      <th>14395</th>\n",
              "      <td>2021-04-30</td>\n",
              "      <td>Sikkim</td>\n",
              "      <td>6354</td>\n",
              "      <td>146</td>\n",
              "      <td>7747</td>\n",
              "    </tr>\n",
              "    <tr>\n",
              "      <th>14366</th>\n",
              "      <td>2021-04-30</td>\n",
              "      <td>Andaman and Nicobar Islands</td>\n",
              "      <td>5643</td>\n",
              "      <td>67</td>\n",
              "      <td>5875</td>\n",
              "    </tr>\n",
              "    <tr>\n",
              "      <th>14373</th>\n",
              "      <td>2021-04-30</td>\n",
              "      <td>Dadra and Nagar Haveli and Daman and Diu</td>\n",
              "      <td>5249</td>\n",
              "      <td>4</td>\n",
              "      <td>7334</td>\n",
              "    </tr>\n",
              "    <tr>\n",
              "      <th>14389</th>\n",
              "      <td>2021-04-30</td>\n",
              "      <td>Mizoram</td>\n",
              "      <td>4882</td>\n",
              "      <td>14</td>\n",
              "      <td>6019</td>\n",
              "    </tr>\n",
              "    <tr>\n",
              "      <th>14384</th>\n",
              "      <td>2021-04-30</td>\n",
              "      <td>Lakshadweep</td>\n",
              "      <td>1382</td>\n",
              "      <td>4</td>\n",
              "      <td>2662</td>\n",
              "    </tr>\n",
              "  </tbody>\n",
              "</table>\n",
              "</div>"
            ],
            "text/plain": [
              "            date                                     state  ...  deaths  confirmed\n",
              "14386 2021-04-30                               Maharashtra  ...   67985    4539553\n",
              "14382 2021-04-30                                    Kerala  ...    5259    1533984\n",
              "14381 2021-04-30                                 Karnataka  ...   15306    1474846\n",
              "14396 2021-04-30                                Tamil Nadu  ...   13933    1148064\n",
              "14374 2021-04-30                                     Delhi  ...   15772    1122286\n",
              "14367 2021-04-30                            Andhra Pradesh  ...    7928    1084336\n",
              "14400 2021-04-30                             Uttar Pradesh  ...   12238    1217952\n",
              "14401 2021-04-30                               West Bengal  ...   11248     810955\n",
              "14372 2021-04-30                              Chhattisgarh  ...    8312     713706\n",
              "14385 2021-04-30                            Madhya Pradesh  ...    5519     550927\n",
              "14376 2021-04-30                                   Gujarat  ...    7010     553172\n",
              "14394 2021-04-30                                 Rajasthan  ...    4084     580846\n",
              "14391 2021-04-30                                    Odisha  ...    2029     435513\n",
              "14377 2021-04-30                                   Haryana  ...    4118     474145\n",
              "14397 2021-04-30                                 Telangana  ...    2261     435606\n",
              "14370 2021-04-30                                     Bihar  ...    2480     454464\n",
              "14393 2021-04-30                                    Punjab  ...    8909     364910\n",
              "14369 2021-04-30                                     Assam  ...    1281     249926\n",
              "14380 2021-04-30                                 Jharkhand  ...    2540     227450\n",
              "14379 2021-04-30                         Jammu and Kashmir  ...    2253     172551\n",
              "14399 2021-04-30                               Uttarakhand  ...    2502     174867\n",
              "14378 2021-04-30                          Himachal Pradesh  ...    1460      96929\n",
              "14375 2021-04-30                                       Goa  ...    1146      88028\n",
              "14392 2021-04-30                                Puducherry  ...     793      57427\n",
              "14371 2021-04-30                                Chandigarh  ...     465      41923\n",
              "14398 2021-04-30                                   Tripura  ...     396      35169\n",
              "14387 2021-04-30                                   Manipur  ...     400      31315\n",
              "14368 2021-04-30                         Arunachal Pradesh  ...      59      18256\n",
              "14388 2021-04-30                                 Meghalaya  ...     169      16617\n",
              "14390 2021-04-30                                  Nagaland  ...     100      13750\n",
              "14383 2021-04-30                                    Ladakh  ...     140      13866\n",
              "14395 2021-04-30                                    Sikkim  ...     146       7747\n",
              "14366 2021-04-30               Andaman and Nicobar Islands  ...      67       5875\n",
              "14373 2021-04-30  Dadra and Nagar Haveli and Daman and Diu  ...       4       7334\n",
              "14389 2021-04-30                                   Mizoram  ...      14       6019\n",
              "14384 2021-04-30                               Lakshadweep  ...       4       2662\n",
              "\n",
              "[36 rows x 5 columns]"
            ]
          },
          "metadata": {
            "tags": []
          },
          "execution_count": 26
        }
      ]
    },
    {
      "cell_type": "code",
      "metadata": {
        "id": "I3Bbp4GZTGNy"
      },
      "source": [
        "top_cured_cases = max_cured_cases[0:5]"
      ],
      "execution_count": null,
      "outputs": []
    },
    {
      "cell_type": "code",
      "metadata": {
        "colab": {
          "base_uri": "https://localhost:8080/",
          "height": 513
        },
        "id": "8ltr7Ywf-6FS",
        "outputId": "75ca8f1b-1300-4ae0-a6e2-e1b6f3673826"
      },
      "source": [
        "sns.set(rc = {'figure.figsize': (12, 8)})\n",
        "sns.barplot(x = 'state', y = 'cured', data = top_states_deaths, hue = 'state')\n",
        "plt.show()"
      ],
      "execution_count": null,
      "outputs": [
        {
          "output_type": "display_data",
          "data": {
            "image/png": "[encoded data removed]",
            "text/plain": [
              "<Figure size 864x576 with 1 Axes>"
            ]
          },
          "metadata": {
            "tags": []
          }
        }
      ]
    },
    {
      "cell_type": "code",
      "metadata": {
        "id": "yPbkwaBm-6NX"
      },
      "source": [
        "#Now we analyze the covide cases by state wise.\n",
        "## Maharashtra\n",
        "maha = covid[covid.state == 'Maharashtra']"
      ],
      "execution_count": null,
      "outputs": []
    },
    {
      "cell_type": "code",
      "metadata": {
        "colab": {
          "base_uri": "https://localhost:8080/",
          "height": 359
        },
        "id": "Y2x4Ofcj-6UI",
        "outputId": "641c937d-09c6-4211-b164-d352185ede9f"
      },
      "source": [
        "maha.head(10)"
      ],
      "execution_count": null,
      "outputs": [
        {
          "output_type": "execute_result",
          "data": {
            "text/html": [
              "<div>\n",
              "<style scoped>\n",
              "    .dataframe tbody tr th:only-of-type {\n",
              "        vertical-align: middle;\n",
              "    }\n",
              "\n",
              "    .dataframe tbody tr th {\n",
              "        vertical-align: top;\n",
              "    }\n",
              "\n",
              "    .dataframe thead th {\n",
              "        text-align: right;\n",
              "    }\n",
              "</style>\n",
              "<table border=\"1\" class=\"dataframe\">\n",
              "  <thead>\n",
              "    <tr style=\"text-align: right;\">\n",
              "      <th></th>\n",
              "      <th>date</th>\n",
              "      <th>state</th>\n",
              "      <th>cured</th>\n",
              "      <th>deaths</th>\n",
              "      <th>confirmed</th>\n",
              "    </tr>\n",
              "  </thead>\n",
              "  <tbody>\n",
              "    <tr>\n",
              "      <th>76</th>\n",
              "      <td>2020-03-09</td>\n",
              "      <td>Maharashtra</td>\n",
              "      <td>0</td>\n",
              "      <td>0</td>\n",
              "      <td>2</td>\n",
              "    </tr>\n",
              "    <tr>\n",
              "      <th>91</th>\n",
              "      <td>2020-03-10</td>\n",
              "      <td>Maharashtra</td>\n",
              "      <td>0</td>\n",
              "      <td>0</td>\n",
              "      <td>5</td>\n",
              "    </tr>\n",
              "    <tr>\n",
              "      <th>97</th>\n",
              "      <td>2020-03-11</td>\n",
              "      <td>Maharashtra</td>\n",
              "      <td>0</td>\n",
              "      <td>0</td>\n",
              "      <td>2</td>\n",
              "    </tr>\n",
              "    <tr>\n",
              "      <th>120</th>\n",
              "      <td>2020-03-12</td>\n",
              "      <td>Maharashtra</td>\n",
              "      <td>0</td>\n",
              "      <td>0</td>\n",
              "      <td>11</td>\n",
              "    </tr>\n",
              "    <tr>\n",
              "      <th>133</th>\n",
              "      <td>2020-03-13</td>\n",
              "      <td>Maharashtra</td>\n",
              "      <td>0</td>\n",
              "      <td>0</td>\n",
              "      <td>14</td>\n",
              "    </tr>\n",
              "    <tr>\n",
              "      <th>146</th>\n",
              "      <td>2020-03-14</td>\n",
              "      <td>Maharashtra</td>\n",
              "      <td>0</td>\n",
              "      <td>0</td>\n",
              "      <td>14</td>\n",
              "    </tr>\n",
              "    <tr>\n",
              "      <th>153</th>\n",
              "      <td>2020-03-15</td>\n",
              "      <td>Maharashtra</td>\n",
              "      <td>0</td>\n",
              "      <td>0</td>\n",
              "      <td>32</td>\n",
              "    </tr>\n",
              "    <tr>\n",
              "      <th>167</th>\n",
              "      <td>2020-03-16</td>\n",
              "      <td>Maharashtra</td>\n",
              "      <td>0</td>\n",
              "      <td>0</td>\n",
              "      <td>32</td>\n",
              "    </tr>\n",
              "    <tr>\n",
              "      <th>182</th>\n",
              "      <td>2020-03-17</td>\n",
              "      <td>Maharashtra</td>\n",
              "      <td>0</td>\n",
              "      <td>1</td>\n",
              "      <td>39</td>\n",
              "    </tr>\n",
              "    <tr>\n",
              "      <th>197</th>\n",
              "      <td>2020-03-18</td>\n",
              "      <td>Maharashtra</td>\n",
              "      <td>0</td>\n",
              "      <td>1</td>\n",
              "      <td>42</td>\n",
              "    </tr>\n",
              "  </tbody>\n",
              "</table>\n",
              "</div>"
            ],
            "text/plain": [
              "          date        state  cured  deaths  confirmed\n",
              "76  2020-03-09  Maharashtra      0       0          2\n",
              "91  2020-03-10  Maharashtra      0       0          5\n",
              "97  2020-03-11  Maharashtra      0       0          2\n",
              "120 2020-03-12  Maharashtra      0       0         11\n",
              "133 2020-03-13  Maharashtra      0       0         14\n",
              "146 2020-03-14  Maharashtra      0       0         14\n",
              "153 2020-03-15  Maharashtra      0       0         32\n",
              "167 2020-03-16  Maharashtra      0       0         32\n",
              "182 2020-03-17  Maharashtra      0       1         39\n",
              "197 2020-03-18  Maharashtra      0       1         42"
            ]
          },
          "metadata": {
            "tags": []
          },
          "execution_count": 30
        }
      ]
    },
    {
      "cell_type": "code",
      "metadata": {
        "colab": {
          "base_uri": "https://localhost:8080/",
          "height": 359
        },
        "id": "450zlxUn-6YK",
        "outputId": "ca55b511-952a-49a2-a8ee-cd1f33ee38b9"
      },
      "source": [
        "maha.tail(10)"
      ],
      "execution_count": null,
      "outputs": [
        {
          "output_type": "execute_result",
          "data": {
            "text/html": [
              "<div>\n",
              "<style scoped>\n",
              "    .dataframe tbody tr th:only-of-type {\n",
              "        vertical-align: middle;\n",
              "    }\n",
              "\n",
              "    .dataframe tbody tr th {\n",
              "        vertical-align: top;\n",
              "    }\n",
              "\n",
              "    .dataframe thead th {\n",
              "        text-align: right;\n",
              "    }\n",
              "</style>\n",
              "<table border=\"1\" class=\"dataframe\">\n",
              "  <thead>\n",
              "    <tr style=\"text-align: right;\">\n",
              "      <th></th>\n",
              "      <th>date</th>\n",
              "      <th>state</th>\n",
              "      <th>cured</th>\n",
              "      <th>deaths</th>\n",
              "      <th>confirmed</th>\n",
              "    </tr>\n",
              "  </thead>\n",
              "  <tbody>\n",
              "    <tr>\n",
              "      <th>14062</th>\n",
              "      <td>2021-04-21</td>\n",
              "      <td>Maharashtra</td>\n",
              "      <td>3213464</td>\n",
              "      <td>61343</td>\n",
              "      <td>3960359</td>\n",
              "    </tr>\n",
              "    <tr>\n",
              "      <th>14098</th>\n",
              "      <td>2021-04-22</td>\n",
              "      <td>Maharashtra</td>\n",
              "      <td>3268449</td>\n",
              "      <td>61911</td>\n",
              "      <td>4027827</td>\n",
              "    </tr>\n",
              "    <tr>\n",
              "      <th>14134</th>\n",
              "      <td>2021-04-23</td>\n",
              "      <td>Maharashtra</td>\n",
              "      <td>3330747</td>\n",
              "      <td>62479</td>\n",
              "      <td>4094840</td>\n",
              "    </tr>\n",
              "    <tr>\n",
              "      <th>14170</th>\n",
              "      <td>2021-04-24</td>\n",
              "      <td>Maharashtra</td>\n",
              "      <td>3404792</td>\n",
              "      <td>63252</td>\n",
              "      <td>4161676</td>\n",
              "    </tr>\n",
              "    <tr>\n",
              "      <th>14206</th>\n",
              "      <td>2021-04-25</td>\n",
              "      <td>Maharashtra</td>\n",
              "      <td>3468610</td>\n",
              "      <td>63928</td>\n",
              "      <td>4228836</td>\n",
              "    </tr>\n",
              "    <tr>\n",
              "      <th>14242</th>\n",
              "      <td>2021-04-26</td>\n",
              "      <td>Maharashtra</td>\n",
              "      <td>3530060</td>\n",
              "      <td>64760</td>\n",
              "      <td>4295027</td>\n",
              "    </tr>\n",
              "    <tr>\n",
              "      <th>14278</th>\n",
              "      <td>2021-04-27</td>\n",
              "      <td>Maharashtra</td>\n",
              "      <td>3601796</td>\n",
              "      <td>65284</td>\n",
              "      <td>4343727</td>\n",
              "    </tr>\n",
              "    <tr>\n",
              "      <th>14314</th>\n",
              "      <td>2021-04-28</td>\n",
              "      <td>Maharashtra</td>\n",
              "      <td>3669548</td>\n",
              "      <td>66179</td>\n",
              "      <td>4410085</td>\n",
              "    </tr>\n",
              "    <tr>\n",
              "      <th>14350</th>\n",
              "      <td>2021-04-29</td>\n",
              "      <td>Maharashtra</td>\n",
              "      <td>3730729</td>\n",
              "      <td>67214</td>\n",
              "      <td>4473394</td>\n",
              "    </tr>\n",
              "    <tr>\n",
              "      <th>14386</th>\n",
              "      <td>2021-04-30</td>\n",
              "      <td>Maharashtra</td>\n",
              "      <td>3799266</td>\n",
              "      <td>67985</td>\n",
              "      <td>4539553</td>\n",
              "    </tr>\n",
              "  </tbody>\n",
              "</table>\n",
              "</div>"
            ],
            "text/plain": [
              "            date        state    cured  deaths  confirmed\n",
              "14062 2021-04-21  Maharashtra  3213464   61343    3960359\n",
              "14098 2021-04-22  Maharashtra  3268449   61911    4027827\n",
              "14134 2021-04-23  Maharashtra  3330747   62479    4094840\n",
              "14170 2021-04-24  Maharashtra  3404792   63252    4161676\n",
              "14206 2021-04-25  Maharashtra  3468610   63928    4228836\n",
              "14242 2021-04-26  Maharashtra  3530060   64760    4295027\n",
              "14278 2021-04-27  Maharashtra  3601796   65284    4343727\n",
              "14314 2021-04-28  Maharashtra  3669548   66179    4410085\n",
              "14350 2021-04-29  Maharashtra  3730729   67214    4473394\n",
              "14386 2021-04-30  Maharashtra  3799266   67985    4539553"
            ]
          },
          "metadata": {
            "tags": []
          },
          "execution_count": 31
        }
      ]
    },
    {
      "cell_type": "code",
      "metadata": {
        "colab": {
          "base_uri": "https://localhost:8080/",
          "height": 513
        },
        "id": "apwkuZdS-6ba",
        "outputId": "565687da-1e0f-4526-c9ae-b7a17552b37c"
      },
      "source": [
        "sns.set(rc = {'figure.figsize': (12, 8)})\n",
        "sns.lineplot(x = 'date', y = 'confirmed', data = maha, color = 'g')\n",
        "plt.show()"
      ],
      "execution_count": null,
      "outputs": [
        {
          "output_type": "display_data",
          "data": {
            "image/png": "[encoded data removed]",
            "text/plain": [
              "<Figure size 864x576 with 1 Axes>"
            ]
          },
          "metadata": {
            "tags": []
          }
        }
      ]
    },
    {
      "cell_type": "code",
      "metadata": {
        "colab": {
          "base_uri": "https://localhost:8080/",
          "height": 502
        },
        "id": "tNL_Pt5m-6eg",
        "outputId": "5c25d070-43b5-41d5-bd83-a9aebd889277"
      },
      "source": [
        "sns.set(rc = {'figure.figsize': (12, 8)})\n",
        "sns.lineplot(x = 'date', y = 'deaths', data = maha, color = 'r')\n",
        "plt.show()"
      ],
      "execution_count": null,
      "outputs": [
        {
          "output_type": "display_data",
          "data": {
            "image/png": "[encoded data removed]",
            "text/plain": [
              "<Figure size 864x576 with 1 Axes>"
            ]
          },
          "metadata": {
            "tags": []
          }
        }
      ]
    },
    {
      "cell_type": "code",
      "metadata": {
        "colab": {
          "base_uri": "https://localhost:8080/",
          "height": 513
        },
        "id": "aOT3t2U0-6hg",
        "outputId": "8a1e8e2a-a786-4af6-bb08-292aea67386d"
      },
      "source": [
        " sns.set(rc = {'figure.figsize': (12, 8)})\n",
        "sns.lineplot(x = 'date', y = 'cured', data = maha, color = 'g')\n",
        "plt.show()"
      ],
      "execution_count": null,
      "outputs": [
        {
          "output_type": "display_data",
          "data": {
            "image/png": "[encoded data removed]",
            "text/plain": [
              "<Figure size 864x576 with 1 Axes>"
            ]
          },
          "metadata": {
            "tags": []
          }
        }
      ]
    },
    {
      "cell_type": "code",
      "metadata": {
        "id": "0Xs-R8nA-6nC"
      },
      "source": [
        "## Kerala\n",
        "\n",
        "kerala = covid[covid.state == 'Kerala']"
      ],
      "execution_count": null,
      "outputs": []
    },
    {
      "cell_type": "code",
      "metadata": {
        "id": "_OtVMcY8TGRt",
        "colab": {
          "base_uri": "https://localhost:8080/",
          "height": 359
        },
        "outputId": "df0baeff-93d7-4d91-90fd-1937cb3aeed9"
      },
      "source": [
        "kerala.head(10)"
      ],
      "execution_count": null,
      "outputs": [
        {
          "output_type": "execute_result",
          "data": {
            "text/html": [
              "<div>\n",
              "<style scoped>\n",
              "    .dataframe tbody tr th:only-of-type {\n",
              "        vertical-align: middle;\n",
              "    }\n",
              "\n",
              "    .dataframe tbody tr th {\n",
              "        vertical-align: top;\n",
              "    }\n",
              "\n",
              "    .dataframe thead th {\n",
              "        text-align: right;\n",
              "    }\n",
              "</style>\n",
              "<table border=\"1\" class=\"dataframe\">\n",
              "  <thead>\n",
              "    <tr style=\"text-align: right;\">\n",
              "      <th></th>\n",
              "      <th>date</th>\n",
              "      <th>state</th>\n",
              "      <th>cured</th>\n",
              "      <th>deaths</th>\n",
              "      <th>confirmed</th>\n",
              "    </tr>\n",
              "  </thead>\n",
              "  <tbody>\n",
              "    <tr>\n",
              "      <th>0</th>\n",
              "      <td>2020-01-30</td>\n",
              "      <td>Kerala</td>\n",
              "      <td>0</td>\n",
              "      <td>0</td>\n",
              "      <td>1</td>\n",
              "    </tr>\n",
              "    <tr>\n",
              "      <th>1</th>\n",
              "      <td>2020-01-31</td>\n",
              "      <td>Kerala</td>\n",
              "      <td>0</td>\n",
              "      <td>0</td>\n",
              "      <td>1</td>\n",
              "    </tr>\n",
              "    <tr>\n",
              "      <th>2</th>\n",
              "      <td>2020-02-01</td>\n",
              "      <td>Kerala</td>\n",
              "      <td>0</td>\n",
              "      <td>0</td>\n",
              "      <td>2</td>\n",
              "    </tr>\n",
              "    <tr>\n",
              "      <th>3</th>\n",
              "      <td>2020-02-02</td>\n",
              "      <td>Kerala</td>\n",
              "      <td>0</td>\n",
              "      <td>0</td>\n",
              "      <td>3</td>\n",
              "    </tr>\n",
              "    <tr>\n",
              "      <th>4</th>\n",
              "      <td>2020-02-03</td>\n",
              "      <td>Kerala</td>\n",
              "      <td>0</td>\n",
              "      <td>0</td>\n",
              "      <td>3</td>\n",
              "    </tr>\n",
              "    <tr>\n",
              "      <th>5</th>\n",
              "      <td>2020-02-04</td>\n",
              "      <td>Kerala</td>\n",
              "      <td>0</td>\n",
              "      <td>0</td>\n",
              "      <td>3</td>\n",
              "    </tr>\n",
              "    <tr>\n",
              "      <th>6</th>\n",
              "      <td>2020-02-05</td>\n",
              "      <td>Kerala</td>\n",
              "      <td>0</td>\n",
              "      <td>0</td>\n",
              "      <td>3</td>\n",
              "    </tr>\n",
              "    <tr>\n",
              "      <th>7</th>\n",
              "      <td>2020-02-06</td>\n",
              "      <td>Kerala</td>\n",
              "      <td>0</td>\n",
              "      <td>0</td>\n",
              "      <td>3</td>\n",
              "    </tr>\n",
              "    <tr>\n",
              "      <th>8</th>\n",
              "      <td>2020-02-07</td>\n",
              "      <td>Kerala</td>\n",
              "      <td>0</td>\n",
              "      <td>0</td>\n",
              "      <td>3</td>\n",
              "    </tr>\n",
              "    <tr>\n",
              "      <th>9</th>\n",
              "      <td>2020-02-08</td>\n",
              "      <td>Kerala</td>\n",
              "      <td>0</td>\n",
              "      <td>0</td>\n",
              "      <td>3</td>\n",
              "    </tr>\n",
              "  </tbody>\n",
              "</table>\n",
              "</div>"
            ],
            "text/plain": [
              "        date   state  cured  deaths  confirmed\n",
              "0 2020-01-30  Kerala      0       0          1\n",
              "1 2020-01-31  Kerala      0       0          1\n",
              "2 2020-02-01  Kerala      0       0          2\n",
              "3 2020-02-02  Kerala      0       0          3\n",
              "4 2020-02-03  Kerala      0       0          3\n",
              "5 2020-02-04  Kerala      0       0          3\n",
              "6 2020-02-05  Kerala      0       0          3\n",
              "7 2020-02-06  Kerala      0       0          3\n",
              "8 2020-02-07  Kerala      0       0          3\n",
              "9 2020-02-08  Kerala      0       0          3"
            ]
          },
          "metadata": {
            "tags": []
          },
          "execution_count": 36
        }
      ]
    },
    {
      "cell_type": "code",
      "metadata": {
        "id": "pamIGqElTGXZ",
        "colab": {
          "base_uri": "https://localhost:8080/",
          "height": 359
        },
        "outputId": "e2447b1f-e95d-4c93-8fb4-b1adb8bb39c9"
      },
      "source": [
        "kerala.tail(10)"
      ],
      "execution_count": null,
      "outputs": [
        {
          "output_type": "execute_result",
          "data": {
            "text/html": [
              "<div>\n",
              "<style scoped>\n",
              "    .dataframe tbody tr th:only-of-type {\n",
              "        vertical-align: middle;\n",
              "    }\n",
              "\n",
              "    .dataframe tbody tr th {\n",
              "        vertical-align: top;\n",
              "    }\n",
              "\n",
              "    .dataframe thead th {\n",
              "        text-align: right;\n",
              "    }\n",
              "</style>\n",
              "<table border=\"1\" class=\"dataframe\">\n",
              "  <thead>\n",
              "    <tr style=\"text-align: right;\">\n",
              "      <th></th>\n",
              "      <th>date</th>\n",
              "      <th>state</th>\n",
              "      <th>cured</th>\n",
              "      <th>deaths</th>\n",
              "      <th>confirmed</th>\n",
              "    </tr>\n",
              "  </thead>\n",
              "  <tbody>\n",
              "    <tr>\n",
              "      <th>14058</th>\n",
              "      <td>2021-04-21</td>\n",
              "      <td>Kerala</td>\n",
              "      <td>1148671</td>\n",
              "      <td>4978</td>\n",
              "      <td>1272645</td>\n",
              "    </tr>\n",
              "    <tr>\n",
              "      <th>14094</th>\n",
              "      <td>2021-04-22</td>\n",
              "      <td>Kerala</td>\n",
              "      <td>1154102</td>\n",
              "      <td>5000</td>\n",
              "      <td>1295059</td>\n",
              "    </tr>\n",
              "    <tr>\n",
              "      <th>14130</th>\n",
              "      <td>2021-04-23</td>\n",
              "      <td>Kerala</td>\n",
              "      <td>1160472</td>\n",
              "      <td>5028</td>\n",
              "      <td>1322054</td>\n",
              "    </tr>\n",
              "    <tr>\n",
              "      <th>14166</th>\n",
              "      <td>2021-04-24</td>\n",
              "      <td>Kerala</td>\n",
              "      <td>1166135</td>\n",
              "      <td>5055</td>\n",
              "      <td>1350501</td>\n",
              "    </tr>\n",
              "    <tr>\n",
              "      <th>14202</th>\n",
              "      <td>2021-04-25</td>\n",
              "      <td>Kerala</td>\n",
              "      <td>1173202</td>\n",
              "      <td>5080</td>\n",
              "      <td>1377186</td>\n",
              "    </tr>\n",
              "    <tr>\n",
              "      <th>14238</th>\n",
              "      <td>2021-04-26</td>\n",
              "      <td>Kerala</td>\n",
              "      <td>1181324</td>\n",
              "      <td>5110</td>\n",
              "      <td>1405655</td>\n",
              "    </tr>\n",
              "    <tr>\n",
              "      <th>14274</th>\n",
              "      <td>2021-04-27</td>\n",
              "      <td>Kerala</td>\n",
              "      <td>1189267</td>\n",
              "      <td>5138</td>\n",
              "      <td>1427545</td>\n",
              "    </tr>\n",
              "    <tr>\n",
              "      <th>14310</th>\n",
              "      <td>2021-04-28</td>\n",
              "      <td>Kerala</td>\n",
              "      <td>1207680</td>\n",
              "      <td>5170</td>\n",
              "      <td>1460364</td>\n",
              "    </tr>\n",
              "    <tr>\n",
              "      <th>14346</th>\n",
              "      <td>2021-04-29</td>\n",
              "      <td>Kerala</td>\n",
              "      <td>1223185</td>\n",
              "      <td>5211</td>\n",
              "      <td>1495377</td>\n",
              "    </tr>\n",
              "    <tr>\n",
              "      <th>14382</th>\n",
              "      <td>2021-04-30</td>\n",
              "      <td>Kerala</td>\n",
              "      <td>1244301</td>\n",
              "      <td>5259</td>\n",
              "      <td>1533984</td>\n",
              "    </tr>\n",
              "  </tbody>\n",
              "</table>\n",
              "</div>"
            ],
            "text/plain": [
              "            date   state    cured  deaths  confirmed\n",
              "14058 2021-04-21  Kerala  1148671    4978    1272645\n",
              "14094 2021-04-22  Kerala  1154102    5000    1295059\n",
              "14130 2021-04-23  Kerala  1160472    5028    1322054\n",
              "14166 2021-04-24  Kerala  1166135    5055    1350501\n",
              "14202 2021-04-25  Kerala  1173202    5080    1377186\n",
              "14238 2021-04-26  Kerala  1181324    5110    1405655\n",
              "14274 2021-04-27  Kerala  1189267    5138    1427545\n",
              "14310 2021-04-28  Kerala  1207680    5170    1460364\n",
              "14346 2021-04-29  Kerala  1223185    5211    1495377\n",
              "14382 2021-04-30  Kerala  1244301    5259    1533984"
            ]
          },
          "metadata": {
            "tags": []
          },
          "execution_count": 37
        }
      ]
    },
    {
      "cell_type": "code",
      "metadata": {
        "id": "PSChraWVTGbi",
        "colab": {
          "base_uri": "https://localhost:8080/",
          "height": 513
        },
        "outputId": "33997590-61fa-4d40-bda4-246f372ce025"
      },
      "source": [
        "sns.set(rc = {'figure.figsize': (12, 8)})\n",
        "sns.lineplot(x = 'date', y = 'confirmed', data = kerala, color = 'g')\n",
        "plt.show()"
      ],
      "execution_count": null,
      "outputs": [
        {
          "output_type": "display_data",
          "data": {
            "image/png": "[encoded data removed]",
            "text/plain": [
              "<Figure size 864x576 with 1 Axes>"
            ]
          },
          "metadata": {
            "tags": []
          }
        }
      ]
    },
    {
      "cell_type": "code",
      "metadata": {
        "id": "GOhzbNEpTGfS",
        "colab": {
          "base_uri": "https://localhost:8080/",
          "height": 502
        },
        "outputId": "4611f261-d4e1-499a-df36-982a6b256ebb"
      },
      "source": [
        "sns.set(rc = {'figure.figsize': (12, 8)})\n",
        "sns.lineplot(x = 'date', y = 'deaths', data = kerala, color = 'r')\n",
        "plt.show()"
      ],
      "execution_count": null,
      "outputs": [
        {
          "output_type": "display_data",
          "data": {
            "image/png": "[encoded data removed]",
            "text/plain": [
              "<Figure size 864x576 with 1 Axes>"
            ]
          },
          "metadata": {
            "tags": []
          }
        }
      ]
    },
    {
      "cell_type": "code",
      "metadata": {
        "id": "EfsJdZhgTGjl",
        "colab": {
          "base_uri": "https://localhost:8080/",
          "height": 513
        },
        "outputId": "77ceeb0c-2d41-4916-9f5e-9c2078e8a427"
      },
      "source": [
        " sns.set(rc = {'figure.figsize': (12, 8)})\n",
        "sns.lineplot(x = 'date', y = 'cured', data = kerala, color = 'g')\n",
        "plt.show()"
      ],
      "execution_count": null,
      "outputs": [
        {
          "output_type": "display_data",
          "data": {
            "image/png": "[encoded data removed]",
            "text/plain": [
              "<Figure size 864x576 with 1 Axes>"
            ]
          },
          "metadata": {
            "tags": []
          }
        }
      ]
    },
    {
      "cell_type": "code",
      "metadata": {
        "id": "CMFF-fPHTGmf"
      },
      "source": [
        "#Testing Details Statewise\n",
        "tests = pd.read_csv(\"/content/drive/MyDrive/ML_Classification_Model/Covid_19_Outbreak_Prediction/StatewiseTestingDetails.csv\")"
      ],
      "execution_count": null,
      "outputs": []
    },
    {
      "cell_type": "code",
      "metadata": {
        "colab": {
          "base_uri": "https://localhost:8080/",
          "height": 359
        },
        "id": "khYyS6NeNPms",
        "outputId": "3552bf1f-f3de-4008-a15f-08cdd9e30693"
      },
      "source": [
        "tests.head(10)"
      ],
      "execution_count": null,
      "outputs": [
        {
          "output_type": "execute_result",
          "data": {
            "text/html": [
              "<div>\n",
              "<style scoped>\n",
              "    .dataframe tbody tr th:only-of-type {\n",
              "        vertical-align: middle;\n",
              "    }\n",
              "\n",
              "    .dataframe tbody tr th {\n",
              "        vertical-align: top;\n",
              "    }\n",
              "\n",
              "    .dataframe thead th {\n",
              "        text-align: right;\n",
              "    }\n",
              "</style>\n",
              "<table border=\"1\" class=\"dataframe\">\n",
              "  <thead>\n",
              "    <tr style=\"text-align: right;\">\n",
              "      <th></th>\n",
              "      <th>Date</th>\n",
              "      <th>State</th>\n",
              "      <th>TotalSamples</th>\n",
              "      <th>Negative</th>\n",
              "      <th>Positive</th>\n",
              "    </tr>\n",
              "  </thead>\n",
              "  <tbody>\n",
              "    <tr>\n",
              "      <th>0</th>\n",
              "      <td>2020-04-17</td>\n",
              "      <td>Andaman and Nicobar Islands</td>\n",
              "      <td>1403.0</td>\n",
              "      <td>1210</td>\n",
              "      <td>12.0</td>\n",
              "    </tr>\n",
              "    <tr>\n",
              "      <th>1</th>\n",
              "      <td>2020-04-24</td>\n",
              "      <td>Andaman and Nicobar Islands</td>\n",
              "      <td>2679.0</td>\n",
              "      <td>NaN</td>\n",
              "      <td>27.0</td>\n",
              "    </tr>\n",
              "    <tr>\n",
              "      <th>2</th>\n",
              "      <td>2020-04-27</td>\n",
              "      <td>Andaman and Nicobar Islands</td>\n",
              "      <td>2848.0</td>\n",
              "      <td>NaN</td>\n",
              "      <td>33.0</td>\n",
              "    </tr>\n",
              "    <tr>\n",
              "      <th>3</th>\n",
              "      <td>2020-05-01</td>\n",
              "      <td>Andaman and Nicobar Islands</td>\n",
              "      <td>3754.0</td>\n",
              "      <td>NaN</td>\n",
              "      <td>33.0</td>\n",
              "    </tr>\n",
              "    <tr>\n",
              "      <th>4</th>\n",
              "      <td>2020-05-16</td>\n",
              "      <td>Andaman and Nicobar Islands</td>\n",
              "      <td>6677.0</td>\n",
              "      <td>NaN</td>\n",
              "      <td>33.0</td>\n",
              "    </tr>\n",
              "    <tr>\n",
              "      <th>5</th>\n",
              "      <td>2020-05-19</td>\n",
              "      <td>Andaman and Nicobar Islands</td>\n",
              "      <td>6965.0</td>\n",
              "      <td>NaN</td>\n",
              "      <td>33.0</td>\n",
              "    </tr>\n",
              "    <tr>\n",
              "      <th>6</th>\n",
              "      <td>2020-05-20</td>\n",
              "      <td>Andaman and Nicobar Islands</td>\n",
              "      <td>7082.0</td>\n",
              "      <td>NaN</td>\n",
              "      <td>33.0</td>\n",
              "    </tr>\n",
              "    <tr>\n",
              "      <th>7</th>\n",
              "      <td>2020-05-21</td>\n",
              "      <td>Andaman and Nicobar Islands</td>\n",
              "      <td>7167.0</td>\n",
              "      <td>NaN</td>\n",
              "      <td>33.0</td>\n",
              "    </tr>\n",
              "    <tr>\n",
              "      <th>8</th>\n",
              "      <td>2020-05-22</td>\n",
              "      <td>Andaman and Nicobar Islands</td>\n",
              "      <td>7263.0</td>\n",
              "      <td>NaN</td>\n",
              "      <td>33.0</td>\n",
              "    </tr>\n",
              "    <tr>\n",
              "      <th>9</th>\n",
              "      <td>2020-05-23</td>\n",
              "      <td>Andaman and Nicobar Islands</td>\n",
              "      <td>7327.0</td>\n",
              "      <td>NaN</td>\n",
              "      <td>33.0</td>\n",
              "    </tr>\n",
              "  </tbody>\n",
              "</table>\n",
              "</div>"
            ],
            "text/plain": [
              "         Date                        State  TotalSamples Negative  Positive\n",
              "0  2020-04-17  Andaman and Nicobar Islands        1403.0     1210      12.0\n",
              "1  2020-04-24  Andaman and Nicobar Islands        2679.0      NaN      27.0\n",
              "2  2020-04-27  Andaman and Nicobar Islands        2848.0      NaN      33.0\n",
              "3  2020-05-01  Andaman and Nicobar Islands        3754.0      NaN      33.0\n",
              "4  2020-05-16  Andaman and Nicobar Islands        6677.0      NaN      33.0\n",
              "5  2020-05-19  Andaman and Nicobar Islands        6965.0      NaN      33.0\n",
              "6  2020-05-20  Andaman and Nicobar Islands        7082.0      NaN      33.0\n",
              "7  2020-05-21  Andaman and Nicobar Islands        7167.0      NaN      33.0\n",
              "8  2020-05-22  Andaman and Nicobar Islands        7263.0      NaN      33.0\n",
              "9  2020-05-23  Andaman and Nicobar Islands        7327.0      NaN      33.0"
            ]
          },
          "metadata": {
            "tags": []
          },
          "execution_count": 42
        }
      ]
    },
    {
      "cell_type": "code",
      "metadata": {
        "colab": {
          "base_uri": "https://localhost:8080/",
          "height": 359
        },
        "id": "6ZvqU-AbO6La",
        "outputId": "fb85b2d0-f65c-4574-e7a7-39838189a023"
      },
      "source": [
        "tests.tail(10)"
      ],
      "execution_count": null,
      "outputs": [
        {
          "output_type": "execute_result",
          "data": {
            "text/html": [
              "<div>\n",
              "<style scoped>\n",
              "    .dataframe tbody tr th:only-of-type {\n",
              "        vertical-align: middle;\n",
              "    }\n",
              "\n",
              "    .dataframe tbody tr th {\n",
              "        vertical-align: top;\n",
              "    }\n",
              "\n",
              "    .dataframe thead th {\n",
              "        text-align: right;\n",
              "    }\n",
              "</style>\n",
              "<table border=\"1\" class=\"dataframe\">\n",
              "  <thead>\n",
              "    <tr style=\"text-align: right;\">\n",
              "      <th></th>\n",
              "      <th>Date</th>\n",
              "      <th>State</th>\n",
              "      <th>TotalSamples</th>\n",
              "      <th>Negative</th>\n",
              "      <th>Positive</th>\n",
              "    </tr>\n",
              "  </thead>\n",
              "  <tbody>\n",
              "    <tr>\n",
              "      <th>12735</th>\n",
              "      <td>2021-04-20</td>\n",
              "      <td>West Bengal</td>\n",
              "      <td>9900322.0</td>\n",
              "      <td>NaN</td>\n",
              "      <td>NaN</td>\n",
              "    </tr>\n",
              "    <tr>\n",
              "      <th>12736</th>\n",
              "      <td>2021-04-21</td>\n",
              "      <td>West Bengal</td>\n",
              "      <td>9950336.0</td>\n",
              "      <td>NaN</td>\n",
              "      <td>NaN</td>\n",
              "    </tr>\n",
              "    <tr>\n",
              "      <th>12737</th>\n",
              "      <td>2021-04-22</td>\n",
              "      <td>West Bengal</td>\n",
              "      <td>10003490.0</td>\n",
              "      <td>NaN</td>\n",
              "      <td>NaN</td>\n",
              "    </tr>\n",
              "    <tr>\n",
              "      <th>12738</th>\n",
              "      <td>2021-04-23</td>\n",
              "      <td>West Bengal</td>\n",
              "      <td>10056136.0</td>\n",
              "      <td>NaN</td>\n",
              "      <td>NaN</td>\n",
              "    </tr>\n",
              "    <tr>\n",
              "      <th>12739</th>\n",
              "      <td>2021-04-24</td>\n",
              "      <td>West Bengal</td>\n",
              "      <td>10111196.0</td>\n",
              "      <td>NaN</td>\n",
              "      <td>NaN</td>\n",
              "    </tr>\n",
              "    <tr>\n",
              "      <th>12740</th>\n",
              "      <td>2021-04-25</td>\n",
              "      <td>West Bengal</td>\n",
              "      <td>10166796.0</td>\n",
              "      <td>NaN</td>\n",
              "      <td>NaN</td>\n",
              "    </tr>\n",
              "    <tr>\n",
              "      <th>12741</th>\n",
              "      <td>2021-04-26</td>\n",
              "      <td>West Bengal</td>\n",
              "      <td>10215358.0</td>\n",
              "      <td>NaN</td>\n",
              "      <td>NaN</td>\n",
              "    </tr>\n",
              "    <tr>\n",
              "      <th>12742</th>\n",
              "      <td>2021-04-27</td>\n",
              "      <td>West Bengal</td>\n",
              "      <td>10270645.0</td>\n",
              "      <td>NaN</td>\n",
              "      <td>NaN</td>\n",
              "    </tr>\n",
              "    <tr>\n",
              "      <th>12743</th>\n",
              "      <td>2021-04-28</td>\n",
              "      <td>West Bengal</td>\n",
              "      <td>10325581.0</td>\n",
              "      <td>NaN</td>\n",
              "      <td>NaN</td>\n",
              "    </tr>\n",
              "    <tr>\n",
              "      <th>12744</th>\n",
              "      <td>2021-04-29</td>\n",
              "      <td>West Bengal</td>\n",
              "      <td>10379305.0</td>\n",
              "      <td>NaN</td>\n",
              "      <td>NaN</td>\n",
              "    </tr>\n",
              "  </tbody>\n",
              "</table>\n",
              "</div>"
            ],
            "text/plain": [
              "             Date        State  TotalSamples Negative  Positive\n",
              "12735  2021-04-20  West Bengal     9900322.0      NaN       NaN\n",
              "12736  2021-04-21  West Bengal     9950336.0      NaN       NaN\n",
              "12737  2021-04-22  West Bengal    10003490.0      NaN       NaN\n",
              "12738  2021-04-23  West Bengal    10056136.0      NaN       NaN\n",
              "12739  2021-04-24  West Bengal    10111196.0      NaN       NaN\n",
              "12740  2021-04-25  West Bengal    10166796.0      NaN       NaN\n",
              "12741  2021-04-26  West Bengal    10215358.0      NaN       NaN\n",
              "12742  2021-04-27  West Bengal    10270645.0      NaN       NaN\n",
              "12743  2021-04-28  West Bengal    10325581.0      NaN       NaN\n",
              "12744  2021-04-29  West Bengal    10379305.0      NaN       NaN"
            ]
          },
          "metadata": {
            "tags": []
          },
          "execution_count": 43
        }
      ]
    },
    {
      "cell_type": "code",
      "metadata": {
        "colab": {
          "base_uri": "https://localhost:8080/"
        },
        "id": "r8u7Zpm-NPqm",
        "outputId": "121dab0e-2a46-4598-d9f4-069d39f17266"
      },
      "source": [
        "tests.shape"
      ],
      "execution_count": null,
      "outputs": [
        {
          "output_type": "execute_result",
          "data": {
            "text/plain": [
              "(12745, 5)"
            ]
          },
          "metadata": {
            "tags": []
          },
          "execution_count": 44
        }
      ]
    },
    {
      "cell_type": "code",
      "metadata": {
        "colab": {
          "base_uri": "https://localhost:8080/"
        },
        "id": "8dCsdYyzNPw9",
        "outputId": "2a80f5d3-5c7b-48d9-950f-5611bfbdb093"
      },
      "source": [
        "tests.info()"
      ],
      "execution_count": null,
      "outputs": [
        {
          "output_type": "stream",
          "text": [
            "<class 'pandas.core.frame.DataFrame'>\n",
            "RangeIndex: 12745 entries, 0 to 12744\n",
            "Data columns (total 5 columns):\n",
            " #   Column        Non-Null Count  Dtype  \n",
            "---  ------        --------------  -----  \n",
            " 0   Date          12745 non-null  object \n",
            " 1   State         12745 non-null  object \n",
            " 2   TotalSamples  12745 non-null  float64\n",
            " 3   Negative      5904 non-null   object \n",
            " 4   Positive      5387 non-null   float64\n",
            "dtypes: float64(2), object(3)\n",
            "memory usage: 498.0+ KB\n"
          ],
          "name": "stdout"
        }
      ]
    },
    {
      "cell_type": "markdown",
      "metadata": {
        "id": "cAryZBpNq2WB"
      },
      "source": [
        "* Predict the Confirmed cases based on the Date"
      ]
    },
    {
      "cell_type": "code",
      "metadata": {
        "id": "QVz0iYLGNP1S"
      },
      "source": [
        "from sklearn.model_selection import train_test_split"
      ],
      "execution_count": null,
      "outputs": []
    },
    {
      "cell_type": "code",
      "metadata": {
        "colab": {
          "base_uri": "https://localhost:8080/"
        },
        "id": "Dl-n6mAJNP5G",
        "outputId": "d1d07686-eba4-43a9-ef29-23cd244c59f3"
      },
      "source": [
        "maha.shape"
      ],
      "execution_count": null,
      "outputs": [
        {
          "output_type": "execute_result",
          "data": {
            "text/plain": [
              "(418, 5)"
            ]
          },
          "metadata": {
            "tags": []
          },
          "execution_count": 47
        }
      ]
    },
    {
      "cell_type": "code",
      "metadata": {
        "colab": {
          "base_uri": "https://localhost:8080/",
          "height": 204
        },
        "id": "45WgIkUvNP8P",
        "outputId": "0cb6005b-ce5d-48b6-f127-4e2a99fc2621"
      },
      "source": [
        "maha.head()"
      ],
      "execution_count": null,
      "outputs": [
        {
          "output_type": "execute_result",
          "data": {
            "text/html": [
              "<div>\n",
              "<style scoped>\n",
              "    .dataframe tbody tr th:only-of-type {\n",
              "        vertical-align: middle;\n",
              "    }\n",
              "\n",
              "    .dataframe tbody tr th {\n",
              "        vertical-align: top;\n",
              "    }\n",
              "\n",
              "    .dataframe thead th {\n",
              "        text-align: right;\n",
              "    }\n",
              "</style>\n",
              "<table border=\"1\" class=\"dataframe\">\n",
              "  <thead>\n",
              "    <tr style=\"text-align: right;\">\n",
              "      <th></th>\n",
              "      <th>date</th>\n",
              "      <th>state</th>\n",
              "      <th>cured</th>\n",
              "      <th>deaths</th>\n",
              "      <th>confirmed</th>\n",
              "    </tr>\n",
              "  </thead>\n",
              "  <tbody>\n",
              "    <tr>\n",
              "      <th>76</th>\n",
              "      <td>2020-03-09</td>\n",
              "      <td>Maharashtra</td>\n",
              "      <td>0</td>\n",
              "      <td>0</td>\n",
              "      <td>2</td>\n",
              "    </tr>\n",
              "    <tr>\n",
              "      <th>91</th>\n",
              "      <td>2020-03-10</td>\n",
              "      <td>Maharashtra</td>\n",
              "      <td>0</td>\n",
              "      <td>0</td>\n",
              "      <td>5</td>\n",
              "    </tr>\n",
              "    <tr>\n",
              "      <th>97</th>\n",
              "      <td>2020-03-11</td>\n",
              "      <td>Maharashtra</td>\n",
              "      <td>0</td>\n",
              "      <td>0</td>\n",
              "      <td>2</td>\n",
              "    </tr>\n",
              "    <tr>\n",
              "      <th>120</th>\n",
              "      <td>2020-03-12</td>\n",
              "      <td>Maharashtra</td>\n",
              "      <td>0</td>\n",
              "      <td>0</td>\n",
              "      <td>11</td>\n",
              "    </tr>\n",
              "    <tr>\n",
              "      <th>133</th>\n",
              "      <td>2020-03-13</td>\n",
              "      <td>Maharashtra</td>\n",
              "      <td>0</td>\n",
              "      <td>0</td>\n",
              "      <td>14</td>\n",
              "    </tr>\n",
              "  </tbody>\n",
              "</table>\n",
              "</div>"
            ],
            "text/plain": [
              "          date        state  cured  deaths  confirmed\n",
              "76  2020-03-09  Maharashtra      0       0          2\n",
              "91  2020-03-10  Maharashtra      0       0          5\n",
              "97  2020-03-11  Maharashtra      0       0          2\n",
              "120 2020-03-12  Maharashtra      0       0         11\n",
              "133 2020-03-13  Maharashtra      0       0         14"
            ]
          },
          "metadata": {
            "tags": []
          },
          "execution_count": 48
        }
      ]
    },
    {
      "cell_type": "code",
      "metadata": {
        "id": "BsLZDz0bNP_j"
      },
      "source": [
        "maha['date'] = maha['date'].map(dt.datetime.toordinal)"
      ],
      "execution_count": null,
      "outputs": []
    },
    {
      "cell_type": "code",
      "metadata": {
        "colab": {
          "base_uri": "https://localhost:8080/",
          "height": 204
        },
        "id": "ktKJIUT1NQFv",
        "outputId": "d9002cfd-3e88-407c-d972-a023359bc504"
      },
      "source": [
        "maha.head() "
      ],
      "execution_count": null,
      "outputs": [
        {
          "output_type": "execute_result",
          "data": {
            "text/html": [
              "<div>\n",
              "<style scoped>\n",
              "    .dataframe tbody tr th:only-of-type {\n",
              "        vertical-align: middle;\n",
              "    }\n",
              "\n",
              "    .dataframe tbody tr th {\n",
              "        vertical-align: top;\n",
              "    }\n",
              "\n",
              "    .dataframe thead th {\n",
              "        text-align: right;\n",
              "    }\n",
              "</style>\n",
              "<table border=\"1\" class=\"dataframe\">\n",
              "  <thead>\n",
              "    <tr style=\"text-align: right;\">\n",
              "      <th></th>\n",
              "      <th>date</th>\n",
              "      <th>state</th>\n",
              "      <th>cured</th>\n",
              "      <th>deaths</th>\n",
              "      <th>confirmed</th>\n",
              "    </tr>\n",
              "  </thead>\n",
              "  <tbody>\n",
              "    <tr>\n",
              "      <th>76</th>\n",
              "      <td>737493</td>\n",
              "      <td>Maharashtra</td>\n",
              "      <td>0</td>\n",
              "      <td>0</td>\n",
              "      <td>2</td>\n",
              "    </tr>\n",
              "    <tr>\n",
              "      <th>91</th>\n",
              "      <td>737494</td>\n",
              "      <td>Maharashtra</td>\n",
              "      <td>0</td>\n",
              "      <td>0</td>\n",
              "      <td>5</td>\n",
              "    </tr>\n",
              "    <tr>\n",
              "      <th>97</th>\n",
              "      <td>737495</td>\n",
              "      <td>Maharashtra</td>\n",
              "      <td>0</td>\n",
              "      <td>0</td>\n",
              "      <td>2</td>\n",
              "    </tr>\n",
              "    <tr>\n",
              "      <th>120</th>\n",
              "      <td>737496</td>\n",
              "      <td>Maharashtra</td>\n",
              "      <td>0</td>\n",
              "      <td>0</td>\n",
              "      <td>11</td>\n",
              "    </tr>\n",
              "    <tr>\n",
              "      <th>133</th>\n",
              "      <td>737497</td>\n",
              "      <td>Maharashtra</td>\n",
              "      <td>0</td>\n",
              "      <td>0</td>\n",
              "      <td>14</td>\n",
              "    </tr>\n",
              "  </tbody>\n",
              "</table>\n",
              "</div>"
            ],
            "text/plain": [
              "       date        state  cured  deaths  confirmed\n",
              "76   737493  Maharashtra      0       0          2\n",
              "91   737494  Maharashtra      0       0          5\n",
              "97   737495  Maharashtra      0       0          2\n",
              "120  737496  Maharashtra      0       0         11\n",
              "133  737497  Maharashtra      0       0         14"
            ]
          },
          "metadata": {
            "tags": []
          },
          "execution_count": 50
        }
      ]
    },
    {
      "cell_type": "code",
      "metadata": {
        "colab": {
          "base_uri": "https://localhost:8080/",
          "height": 204
        },
        "id": "IF0rITwYpgiP",
        "outputId": "fc4564d9-d969-4604-fe0f-4f1f8cd479b9"
      },
      "source": [
        "maha.tail()"
      ],
      "execution_count": null,
      "outputs": [
        {
          "output_type": "execute_result",
          "data": {
            "text/html": [
              "<div>\n",
              "<style scoped>\n",
              "    .dataframe tbody tr th:only-of-type {\n",
              "        vertical-align: middle;\n",
              "    }\n",
              "\n",
              "    .dataframe tbody tr th {\n",
              "        vertical-align: top;\n",
              "    }\n",
              "\n",
              "    .dataframe thead th {\n",
              "        text-align: right;\n",
              "    }\n",
              "</style>\n",
              "<table border=\"1\" class=\"dataframe\">\n",
              "  <thead>\n",
              "    <tr style=\"text-align: right;\">\n",
              "      <th></th>\n",
              "      <th>date</th>\n",
              "      <th>state</th>\n",
              "      <th>cured</th>\n",
              "      <th>deaths</th>\n",
              "      <th>confirmed</th>\n",
              "    </tr>\n",
              "  </thead>\n",
              "  <tbody>\n",
              "    <tr>\n",
              "      <th>14242</th>\n",
              "      <td>737906</td>\n",
              "      <td>Maharashtra</td>\n",
              "      <td>3530060</td>\n",
              "      <td>64760</td>\n",
              "      <td>4295027</td>\n",
              "    </tr>\n",
              "    <tr>\n",
              "      <th>14278</th>\n",
              "      <td>737907</td>\n",
              "      <td>Maharashtra</td>\n",
              "      <td>3601796</td>\n",
              "      <td>65284</td>\n",
              "      <td>4343727</td>\n",
              "    </tr>\n",
              "    <tr>\n",
              "      <th>14314</th>\n",
              "      <td>737908</td>\n",
              "      <td>Maharashtra</td>\n",
              "      <td>3669548</td>\n",
              "      <td>66179</td>\n",
              "      <td>4410085</td>\n",
              "    </tr>\n",
              "    <tr>\n",
              "      <th>14350</th>\n",
              "      <td>737909</td>\n",
              "      <td>Maharashtra</td>\n",
              "      <td>3730729</td>\n",
              "      <td>67214</td>\n",
              "      <td>4473394</td>\n",
              "    </tr>\n",
              "    <tr>\n",
              "      <th>14386</th>\n",
              "      <td>737910</td>\n",
              "      <td>Maharashtra</td>\n",
              "      <td>3799266</td>\n",
              "      <td>67985</td>\n",
              "      <td>4539553</td>\n",
              "    </tr>\n",
              "  </tbody>\n",
              "</table>\n",
              "</div>"
            ],
            "text/plain": [
              "         date        state    cured  deaths  confirmed\n",
              "14242  737906  Maharashtra  3530060   64760    4295027\n",
              "14278  737907  Maharashtra  3601796   65284    4343727\n",
              "14314  737908  Maharashtra  3669548   66179    4410085\n",
              "14350  737909  Maharashtra  3730729   67214    4473394\n",
              "14386  737910  Maharashtra  3799266   67985    4539553"
            ]
          },
          "metadata": {
            "tags": []
          },
          "execution_count": 74
        }
      ]
    },
    {
      "cell_type": "code",
      "metadata": {
        "id": "bNfnunQ_NQIr"
      },
      "source": [
        "#Now splitting dataset into independent variable and dependent variable\n",
        "X = maha['date']\n",
        "y = maha['confirmed']"
      ],
      "execution_count": null,
      "outputs": []
    },
    {
      "cell_type": "code",
      "metadata": {
        "colab": {
          "base_uri": "https://localhost:8080/"
        },
        "id": "KGacz28eNQVY",
        "outputId": "52a04338-3c0e-464a-e637-74037f0ca17f"
      },
      "source": [
        "X.head()"
      ],
      "execution_count": null,
      "outputs": [
        {
          "output_type": "execute_result",
          "data": {
            "text/plain": [
              "76     737493\n",
              "91     737494\n",
              "97     737495\n",
              "120    737496\n",
              "133    737497\n",
              "Name: date, dtype: int64"
            ]
          },
          "metadata": {
            "tags": []
          },
          "execution_count": 56
        }
      ]
    },
    {
      "cell_type": "code",
      "metadata": {
        "colab": {
          "base_uri": "https://localhost:8080/"
        },
        "id": "sudSxQyiNQYy",
        "outputId": "bd31abb7-64e0-40fb-ceb8-180f444cb197"
      },
      "source": [
        "y.head()"
      ],
      "execution_count": null,
      "outputs": [
        {
          "output_type": "execute_result",
          "data": {
            "text/plain": [
              "76      2\n",
              "91      5\n",
              "97      2\n",
              "120    11\n",
              "133    14\n",
              "Name: confirmed, dtype: int64"
            ]
          },
          "metadata": {
            "tags": []
          },
          "execution_count": 57
        }
      ]
    },
    {
      "cell_type": "code",
      "metadata": {
        "id": "YfeLh0iQNQct"
      },
      "source": [
        "#Train-Test Split\n",
        "from sklearn.model_selection import train_test_split"
      ],
      "execution_count": null,
      "outputs": []
    },
    {
      "cell_type": "code",
      "metadata": {
        "id": "bb2ebYuFNQf3"
      },
      "source": [
        "x_train, x_test, y_train, y_test = train_test_split(X,y, test_size = 0.2, random_state = 0)"
      ],
      "execution_count": null,
      "outputs": []
    },
    {
      "cell_type": "code",
      "metadata": {
        "id": "dv4hofepNQjr"
      },
      "source": [
        "from sklearn.ensemble import RandomForestRegressor\n",
        "from sklearn.tree import DecisionTreeRegressor\n",
        "from sklearn.neighbors import KNeighborsRegressor"
      ],
      "execution_count": null,
      "outputs": []
    },
    {
      "cell_type": "code",
      "metadata": {
        "id": "5B4jBfTCNQnm"
      },
      "source": [
        "#Rando Forest Regressor\n",
        "forest = RandomForestRegressor()\n",
        "forest.fit(np.array(x_train).reshape(-1,1), np.array(y_train).reshape(-1,1))\n",
        "forest_prediction = forest.predict(np.array(x_test).reshape(-1,1))"
      ],
      "execution_count": null,
      "outputs": []
    },
    {
      "cell_type": "code",
      "metadata": {
        "id": "r9r1Z17LmuT_"
      },
      "source": [
        "#Decision Tree Regressor\n",
        "dtree = DecisionTreeRegressor()\n",
        "dtree.fit(np.array(x_train).reshape(-1,1), np.array(y_train).reshape(-1,1))\n",
        "dtree_prediction = dtree.predict(np.array(x_test).reshape(-1,1))"
      ],
      "execution_count": null,
      "outputs": []
    },
    {
      "cell_type": "code",
      "metadata": {
        "id": "xdUTg7F9NQtb"
      },
      "source": [
        "#KNN Regressor \n",
        "knn = KNeighborsRegressor()\n",
        "knn.fit(np.array(x_train).reshape(-1,1), np.array(y_train).reshape(-1,1))\n",
        "knn_prediction = knn.predict(np.array(x_test).reshape(-1,1))"
      ],
      "execution_count": null,
      "outputs": []
    },
    {
      "cell_type": "code",
      "metadata": {
        "colab": {
          "base_uri": "https://localhost:8080/"
        },
        "id": "-VRnKOfvNQxb",
        "outputId": "18b69eac-449a-43bd-8347-4e7b66ca13ae"
      },
      "source": [
        "#Let's check the performance of the model\n",
        "from sklearn.metrics import mean_squared_error, r2_score\n",
        "print(\"Decision Tree Regressor : \")\n",
        "print(\"Rsquared score : \", r2_score(y_test, dtree_prediction))\n",
        "print(\"RMSE : \", np.sqrt(mean_squared_error(y_test, dtree_prediction)))\n",
        "print(\"===\"*20)\n",
        "\n",
        "print(\"Random Forest Regressor : \")\n",
        "print(\"Rsquared score : \", r2_score(y_test, forest_prediction))\n",
        "print(\"RMSE : \", np.sqrt(mean_squared_error(y_test, forest_prediction)))\n",
        "print(\"===\"*20)\n",
        "\n",
        "print(\"KNN Regressor : \")\n",
        "print(\"Rsquared score : \", r2_score(y_test, knn_prediction))\n",
        "print(\"RMSE : \", np.sqrt(mean_squared_error(y_test, knn_prediction)))\n",
        "print(\"===\"*20)\n"
      ],
      "execution_count": null,
      "outputs": [
        {
          "output_type": "stream",
          "text": [
            "Decision Tree Regressor : \n",
            "Rsquared score :  0.9997540239399912\n",
            "RMSE :  16841.14828506429\n",
            "============================================================\n",
            "Random Forest Regressor : \n",
            "Rsquared score :  0.9998199464643136\n",
            "RMSE :  14408.74337198641\n",
            "============================================================\n",
            "KNN Regressor : \n",
            "Rsquared score :  0.999555988510684\n",
            "RMSE :  22626.76068357788\n",
            "============================================================\n"
          ],
          "name": "stdout"
        }
      ]
    },
    {
      "cell_type": "markdown",
      "metadata": {
        "id": "N38Rl66qqff_"
      },
      "source": [
        "* We can see that Randomforest regressor model gives less RMSE."
      ]
    },
    {
      "cell_type": "markdown",
      "metadata": {
        "id": "4cpVRpRmqfZt"
      },
      "source": [
        ""
      ]
    },
    {
      "cell_type": "code",
      "metadata": {
        "colab": {
          "base_uri": "https://localhost:8080/"
        },
        "id": "sha2Xfa-NQ2I",
        "outputId": "1086d04b-71d4-423f-bfa1-411bfaca0543"
      },
      "source": [
        "#Let's predict the model on new data\n",
        "forest.predict([[737911]])"
      ],
      "execution_count": null,
      "outputs": [
        {
          "output_type": "execute_result",
          "data": {
            "text/plain": [
              "array([4443110.23])"
            ]
          },
          "metadata": {
            "tags": []
          },
          "execution_count": 75
        }
      ]
    },
    {
      "cell_type": "code",
      "metadata": {
        "colab": {
          "base_uri": "https://localhost:8080/",
          "height": 204
        },
        "id": "IAVOzRB9NRCd",
        "outputId": "3a809bf5-4617-4a23-9242-beb63ba3eb99"
      },
      "source": [
        "maha.head()"
      ],
      "execution_count": null,
      "outputs": [
        {
          "output_type": "execute_result",
          "data": {
            "text/html": [
              "<div>\n",
              "<style scoped>\n",
              "    .dataframe tbody tr th:only-of-type {\n",
              "        vertical-align: middle;\n",
              "    }\n",
              "\n",
              "    .dataframe tbody tr th {\n",
              "        vertical-align: top;\n",
              "    }\n",
              "\n",
              "    .dataframe thead th {\n",
              "        text-align: right;\n",
              "    }\n",
              "</style>\n",
              "<table border=\"1\" class=\"dataframe\">\n",
              "  <thead>\n",
              "    <tr style=\"text-align: right;\">\n",
              "      <th></th>\n",
              "      <th>date</th>\n",
              "      <th>state</th>\n",
              "      <th>cured</th>\n",
              "      <th>deaths</th>\n",
              "      <th>confirmed</th>\n",
              "    </tr>\n",
              "  </thead>\n",
              "  <tbody>\n",
              "    <tr>\n",
              "      <th>76</th>\n",
              "      <td>737493</td>\n",
              "      <td>Maharashtra</td>\n",
              "      <td>0</td>\n",
              "      <td>0</td>\n",
              "      <td>2</td>\n",
              "    </tr>\n",
              "    <tr>\n",
              "      <th>91</th>\n",
              "      <td>737494</td>\n",
              "      <td>Maharashtra</td>\n",
              "      <td>0</td>\n",
              "      <td>0</td>\n",
              "      <td>5</td>\n",
              "    </tr>\n",
              "    <tr>\n",
              "      <th>97</th>\n",
              "      <td>737495</td>\n",
              "      <td>Maharashtra</td>\n",
              "      <td>0</td>\n",
              "      <td>0</td>\n",
              "      <td>2</td>\n",
              "    </tr>\n",
              "    <tr>\n",
              "      <th>120</th>\n",
              "      <td>737496</td>\n",
              "      <td>Maharashtra</td>\n",
              "      <td>0</td>\n",
              "      <td>0</td>\n",
              "      <td>11</td>\n",
              "    </tr>\n",
              "    <tr>\n",
              "      <th>133</th>\n",
              "      <td>737497</td>\n",
              "      <td>Maharashtra</td>\n",
              "      <td>0</td>\n",
              "      <td>0</td>\n",
              "      <td>14</td>\n",
              "    </tr>\n",
              "  </tbody>\n",
              "</table>\n",
              "</div>"
            ],
            "text/plain": [
              "       date        state  cured  deaths  confirmed\n",
              "76   737493  Maharashtra      0       0          2\n",
              "91   737494  Maharashtra      0       0          5\n",
              "97   737495  Maharashtra      0       0          2\n",
              "120  737496  Maharashtra      0       0         11\n",
              "133  737497  Maharashtra      0       0         14"
            ]
          },
          "metadata": {
            "tags": []
          },
          "execution_count": 78
        }
      ]
    },
    {
      "cell_type": "code",
      "metadata": {
        "colab": {
          "base_uri": "https://localhost:8080/"
        },
        "id": "rpe8Ed5nrUs8",
        "outputId": "a87848ed-cad4-4aa4-8c37-37a439a78000"
      },
      "source": [
        "maha.columns"
      ],
      "execution_count": null,
      "outputs": [
        {
          "output_type": "execute_result",
          "data": {
            "text/plain": [
              "Index(['date', 'state', 'cured', 'deaths', 'confirmed'], dtype='object')"
            ]
          },
          "metadata": {
            "tags": []
          },
          "execution_count": 79
        }
      ]
    },
    {
      "cell_type": "code",
      "metadata": {
        "id": "NCSulgxQNRGJ"
      },
      "source": [
        "X_data = maha[['date', 'cured', 'deaths']] \n",
        "y_data = maha['confirmed']"
      ],
      "execution_count": null,
      "outputs": []
    },
    {
      "cell_type": "code",
      "metadata": {
        "colab": {
          "base_uri": "https://localhost:8080/",
          "height": 204
        },
        "id": "pIdds3-VNRJ-",
        "outputId": "ac637dac-9a14-4e7b-cddb-4392b2b98f09"
      },
      "source": [
        "X_data.head()"
      ],
      "execution_count": null,
      "outputs": [
        {
          "output_type": "execute_result",
          "data": {
            "text/html": [
              "<div>\n",
              "<style scoped>\n",
              "    .dataframe tbody tr th:only-of-type {\n",
              "        vertical-align: middle;\n",
              "    }\n",
              "\n",
              "    .dataframe tbody tr th {\n",
              "        vertical-align: top;\n",
              "    }\n",
              "\n",
              "    .dataframe thead th {\n",
              "        text-align: right;\n",
              "    }\n",
              "</style>\n",
              "<table border=\"1\" class=\"dataframe\">\n",
              "  <thead>\n",
              "    <tr style=\"text-align: right;\">\n",
              "      <th></th>\n",
              "      <th>date</th>\n",
              "      <th>cured</th>\n",
              "      <th>deaths</th>\n",
              "    </tr>\n",
              "  </thead>\n",
              "  <tbody>\n",
              "    <tr>\n",
              "      <th>76</th>\n",
              "      <td>737493</td>\n",
              "      <td>0</td>\n",
              "      <td>0</td>\n",
              "    </tr>\n",
              "    <tr>\n",
              "      <th>91</th>\n",
              "      <td>737494</td>\n",
              "      <td>0</td>\n",
              "      <td>0</td>\n",
              "    </tr>\n",
              "    <tr>\n",
              "      <th>97</th>\n",
              "      <td>737495</td>\n",
              "      <td>0</td>\n",
              "      <td>0</td>\n",
              "    </tr>\n",
              "    <tr>\n",
              "      <th>120</th>\n",
              "      <td>737496</td>\n",
              "      <td>0</td>\n",
              "      <td>0</td>\n",
              "    </tr>\n",
              "    <tr>\n",
              "      <th>133</th>\n",
              "      <td>737497</td>\n",
              "      <td>0</td>\n",
              "      <td>0</td>\n",
              "    </tr>\n",
              "  </tbody>\n",
              "</table>\n",
              "</div>"
            ],
            "text/plain": [
              "       date  cured  deaths\n",
              "76   737493      0       0\n",
              "91   737494      0       0\n",
              "97   737495      0       0\n",
              "120  737496      0       0\n",
              "133  737497      0       0"
            ]
          },
          "metadata": {
            "tags": []
          },
          "execution_count": 82
        }
      ]
    },
    {
      "cell_type": "code",
      "metadata": {
        "colab": {
          "base_uri": "https://localhost:8080/",
          "height": 204
        },
        "id": "dZImRBXctq1N",
        "outputId": "b5c66980-476a-405c-83d5-293afffdba29"
      },
      "source": [
        "X_data.tail()"
      ],
      "execution_count": null,
      "outputs": [
        {
          "output_type": "execute_result",
          "data": {
            "text/html": [
              "<div>\n",
              "<style scoped>\n",
              "    .dataframe tbody tr th:only-of-type {\n",
              "        vertical-align: middle;\n",
              "    }\n",
              "\n",
              "    .dataframe tbody tr th {\n",
              "        vertical-align: top;\n",
              "    }\n",
              "\n",
              "    .dataframe thead th {\n",
              "        text-align: right;\n",
              "    }\n",
              "</style>\n",
              "<table border=\"1\" class=\"dataframe\">\n",
              "  <thead>\n",
              "    <tr style=\"text-align: right;\">\n",
              "      <th></th>\n",
              "      <th>date</th>\n",
              "      <th>cured</th>\n",
              "      <th>deaths</th>\n",
              "    </tr>\n",
              "  </thead>\n",
              "  <tbody>\n",
              "    <tr>\n",
              "      <th>14242</th>\n",
              "      <td>737906</td>\n",
              "      <td>3530060</td>\n",
              "      <td>64760</td>\n",
              "    </tr>\n",
              "    <tr>\n",
              "      <th>14278</th>\n",
              "      <td>737907</td>\n",
              "      <td>3601796</td>\n",
              "      <td>65284</td>\n",
              "    </tr>\n",
              "    <tr>\n",
              "      <th>14314</th>\n",
              "      <td>737908</td>\n",
              "      <td>3669548</td>\n",
              "      <td>66179</td>\n",
              "    </tr>\n",
              "    <tr>\n",
              "      <th>14350</th>\n",
              "      <td>737909</td>\n",
              "      <td>3730729</td>\n",
              "      <td>67214</td>\n",
              "    </tr>\n",
              "    <tr>\n",
              "      <th>14386</th>\n",
              "      <td>737910</td>\n",
              "      <td>3799266</td>\n",
              "      <td>67985</td>\n",
              "    </tr>\n",
              "  </tbody>\n",
              "</table>\n",
              "</div>"
            ],
            "text/plain": [
              "         date    cured  deaths\n",
              "14242  737906  3530060   64760\n",
              "14278  737907  3601796   65284\n",
              "14314  737908  3669548   66179\n",
              "14350  737909  3730729   67214\n",
              "14386  737910  3799266   67985"
            ]
          },
          "metadata": {
            "tags": []
          },
          "execution_count": 94
        }
      ]
    },
    {
      "cell_type": "code",
      "metadata": {
        "colab": {
          "base_uri": "https://localhost:8080/"
        },
        "id": "s5liHHPstqrf",
        "outputId": "7c3caaeb-26e2-4d3b-8cd0-47c41300f221"
      },
      "source": [
        "y_data.tail()"
      ],
      "execution_count": null,
      "outputs": [
        {
          "output_type": "execute_result",
          "data": {
            "text/plain": [
              "14242    4295027\n",
              "14278    4343727\n",
              "14314    4410085\n",
              "14350    4473394\n",
              "14386    4539553\n",
              "Name: confirmed, dtype: int64"
            ]
          },
          "metadata": {
            "tags": []
          },
          "execution_count": 96
        }
      ]
    },
    {
      "cell_type": "code",
      "metadata": {
        "id": "jO6pZtSoNRPC"
      },
      "source": [
        "xtrain, xtest, ytrain, ytest = train_test_split(X_data,y_data, test_size = 0.2, random_state = 0)"
      ],
      "execution_count": null,
      "outputs": []
    },
    {
      "cell_type": "code",
      "metadata": {
        "id": "y_k3bH-yNRWW"
      },
      "source": [
        "#Rando Forest Regressor\n",
        "rf = RandomForestRegressor()\n",
        "rf.fit(xtrain, ytrain)\n",
        "rf_prediction = rf.predict(xtest)"
      ],
      "execution_count": null,
      "outputs": []
    },
    {
      "cell_type": "code",
      "metadata": {
        "id": "32B3rA22sB1g"
      },
      "source": [
        "#Decision Tree Regressor\n",
        "dtree_reg = DecisionTreeRegressor()\n",
        "dtree_reg.fit(xtrain, ytrain)\n",
        "dtree_reg_prediction = dtree_reg.predict(xtest)"
      ],
      "execution_count": null,
      "outputs": []
    },
    {
      "cell_type": "code",
      "metadata": {
        "id": "Fx5Wsm__tKt9"
      },
      "source": [
        ""
      ],
      "execution_count": null,
      "outputs": []
    },
    {
      "cell_type": "code",
      "metadata": {
        "colab": {
          "base_uri": "https://localhost:8080/"
        },
        "id": "YJ4Xk_blsB50",
        "outputId": "bf28c5d0-3de2-47ff-9aff-75c88831442e"
      },
      "source": [
        "print(\"Decision Tree Regressor : \")\n",
        "print(\"Rsquared score : \", r2_score(ytest, dtree_reg_prediction))\n",
        "print(\"RMSE : \", np.sqrt(mean_squared_error(ytest, dtree_reg_prediction)))\n",
        "print(\"===\"*20)\n",
        "\n",
        "print(\"Random Forest Regressor : \")\n",
        "print(\"Rsquared score : \", r2_score(ytest, rf_prediction))\n",
        "print(\"RMSE : \", np.sqrt(mean_squared_error(ytest, rf_prediction)))\n",
        "print(\"===\"*20)\n"
      ],
      "execution_count": null,
      "outputs": [
        {
          "output_type": "stream",
          "text": [
            "Decision Tree Regressor : \n",
            "Rsquared score :  0.9997494374979257\n",
            "RMSE :  16997.432218888658\n",
            "============================================================\n",
            "Random Forest Regressor : \n",
            "Rsquared score :  0.9998332312863705\n",
            "RMSE :  13867.00170105194\n",
            "============================================================\n"
          ],
          "name": "stdout"
        }
      ]
    },
    {
      "cell_type": "code",
      "metadata": {
        "colab": {
          "base_uri": "https://localhost:8080/"
        },
        "id": "feS9lLzZsB-H",
        "outputId": "46e9c16d-0c6d-4282-dcce-819de3f8af6a"
      },
      "source": [
        "#PRedict on new data\n",
        "rf.predict([[737911, 3799500,67995]])"
      ],
      "execution_count": null,
      "outputs": [
        {
          "output_type": "execute_result",
          "data": {
            "text/plain": [
              "array([4430552.98])"
            ]
          },
          "metadata": {
            "tags": []
          },
          "execution_count": 95
        }
      ]
    },
    {
      "cell_type": "code",
      "metadata": {
        "id": "gCj3o26tvMQw"
      },
      "source": [
        ""
      ],
      "execution_count": null,
      "outputs": []
    },
    {
      "cell_type": "code",
      "metadata": {
        "id": "HQOtLEFovMVo"
      },
      "source": [
        ""
      ],
      "execution_count": null,
      "outputs": []
    }
  ]
}